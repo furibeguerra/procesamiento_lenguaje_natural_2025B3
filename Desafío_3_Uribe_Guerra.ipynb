{
  "nbformat": 4,
  "nbformat_minor": 0,
  "metadata": {
    "colab": {
      "provenance": [],
      "gpuType": "T4",
      "include_colab_link": true
    },
    "kernelspec": {
      "name": "python3",
      "display_name": "Python 3"
    },
    "language_info": {
      "name": "python"
    },
    "accelerator": "GPU"
  },
  "cells": [
    {
      "cell_type": "markdown",
      "metadata": {
        "id": "view-in-github",
        "colab_type": "text"
      },
      "source": [
        "<a href=\"https://colab.research.google.com/github/furibeguerra/procesamiento_lenguaje_natural_2025B3/blob/main/Desaf%C3%ADo_3_Uribe_Guerra.ipynb\" target=\"_parent\"><img src=\"https://colab.research.google.com/assets/colab-badge.svg\" alt=\"Open In Colab\"/></a>"
      ]
    },
    {
      "cell_type": "markdown",
      "metadata": {
        "id": "g3yeJGnCYxuF"
      },
      "source": [
        "<img src=\"https://github.com/hernancontigiani/ceia_memorias_especializacion/raw/master/Figures/logoFIUBA.jpg\" width=\"500\" align=\"center\">\n",
        "\n",
        "# Desafio 3\n",
        "\n",
        "# Procesamiento de lenguaje natural\n",
        "## Predicción de próxima palabra"
      ]
    },
    {
      "cell_type": "markdown",
      "metadata": {
        "id": "Iv5PEwGzZA9-"
      },
      "source": [
        "### Objetivo\n",
        "El objetivo es utilizar documentos / corpus para crear embeddings de palabras basado en ese contexto utilizando la layer Embedding de Keras. Se utilizará esos embeddings junto con layers LSTM para predeccir la próxima posible palabra."
      ]
    },
    {
      "cell_type": "code",
      "metadata": {
        "id": "Y-QdFbHZYj7C"
      },
      "source": [
        "import random\n",
        "import io\n",
        "import pickle\n",
        "\n",
        "import numpy as np\n",
        "import pandas as pd\n",
        "import matplotlib.pyplot as plt\n",
        "import seaborn as sns\n",
        "\n",
        "import torch\n",
        "import torch.nn.functional as F\n",
        "import torch.nn as nn\n",
        "from torch.utils.data import Dataset, DataLoader"
      ],
      "execution_count": null,
      "outputs": []
    },
    {
      "cell_type": "code",
      "source": [
        "cuda = torch.cuda.is_available()\n",
        "device = torch.device('cuda' if torch.cuda.is_available() else 'cpu')\n",
        "device"
      ],
      "metadata": {
        "id": "S32xZJt_ACQP",
        "colab": {
          "base_uri": "https://localhost:8080/"
        },
        "outputId": "ec471994-6b47-481b-bebe-87036f015b19"
      },
      "execution_count": null,
      "outputs": [
        {
          "output_type": "execute_result",
          "data": {
            "text/plain": [
              "device(type='cuda')"
            ]
          },
          "metadata": {},
          "execution_count": 2
        }
      ]
    },
    {
      "cell_type": "code",
      "source": [
        "# torchsummar actualmente tiene un problema con las LSTM, por eso\n",
        "# se utiliza torchinfo, un fork del proyecto original con el bug solucionado\n",
        "!pip3 install torchinfo\n",
        "from torchinfo import summary"
      ],
      "metadata": {
        "colab": {
          "base_uri": "https://localhost:8080/"
        },
        "id": "SzYQL2mV-_Rt",
        "outputId": "58d93e36-328a-4523-8498-c58c8715a6ac"
      },
      "execution_count": null,
      "outputs": [
        {
          "output_type": "stream",
          "name": "stdout",
          "text": [
            "Collecting torchinfo\n",
            "  Downloading torchinfo-1.8.0-py3-none-any.whl.metadata (21 kB)\n",
            "Downloading torchinfo-1.8.0-py3-none-any.whl (23 kB)\n",
            "Installing collected packages: torchinfo\n",
            "Successfully installed torchinfo-1.8.0\n"
          ]
        }
      ]
    },
    {
      "cell_type": "code",
      "source": [
        "import os\n",
        "import platform\n",
        "\n",
        "if os.access('torch_helpers.py', os.F_OK) is False:\n",
        "    if platform.system() == 'Windows':\n",
        "        !curl !wget https://raw.githubusercontent.com/FIUBA-Posgrado-Inteligencia-Artificial/procesamiento_lenguaje_natural/main/scripts/torch_helpers.py > torch_helpers.py\n",
        "    else:\n",
        "        !wget torch_helpers.py https://raw.githubusercontent.com/FIUBA-Posgrado-Inteligencia-Artificial/procesamiento_lenguaje_natural/main/scripts/torch_helpers.py"
      ],
      "metadata": {
        "colab": {
          "base_uri": "https://localhost:8080/"
        },
        "id": "XI7mSG6p_B0t",
        "outputId": "78971372-64fe-46af-9f64-1c629cc5e306"
      },
      "execution_count": null,
      "outputs": [
        {
          "output_type": "stream",
          "name": "stdout",
          "text": [
            "--2025-04-17 02:17:03--  http://torch_helpers.py/\n",
            "Resolving torch_helpers.py (torch_helpers.py)... failed: Name or service not known.\n",
            "wget: unable to resolve host address ‘torch_helpers.py’\n",
            "--2025-04-17 02:17:03--  https://raw.githubusercontent.com/FIUBA-Posgrado-Inteligencia-Artificial/procesamiento_lenguaje_natural/main/scripts/torch_helpers.py\n",
            "Resolving raw.githubusercontent.com (raw.githubusercontent.com)... 185.199.108.133, 185.199.109.133, 185.199.110.133, ...\n",
            "Connecting to raw.githubusercontent.com (raw.githubusercontent.com)|185.199.108.133|:443... connected.\n",
            "HTTP request sent, awaiting response... 200 OK\n",
            "Length: 23883 (23K) [text/plain]\n",
            "Saving to: ‘torch_helpers.py’\n",
            "\n",
            "torch_helpers.py    100%[===================>]  23.32K  --.-KB/s    in 0s      \n",
            "\n",
            "2025-04-17 02:17:03 (95.0 MB/s) - ‘torch_helpers.py’ saved [23883/23883]\n",
            "\n",
            "FINISHED --2025-04-17 02:17:03--\n",
            "Total wall clock time: 0.5s\n",
            "Downloaded: 1 files, 23K in 0s (95.0 MB/s)\n"
          ]
        }
      ]
    },
    {
      "cell_type": "code",
      "source": [
        "from torch_helpers import Tokenizer\n",
        "from torch_helpers import text_to_word_sequence\n",
        "from torch_helpers import pad_sequences\n",
        "\n",
        "train_len = 4"
      ],
      "metadata": {
        "id": "sn0AWa0hSu9m"
      },
      "execution_count": null,
      "outputs": []
    },
    {
      "cell_type": "code",
      "source": [
        "from torch_helpers import categorical_acc\n",
        "\n",
        "def train(model, train_loader, valid_loader, optimizer, criterion, epochs=100):\n",
        "\n",
        "    train_loss = []\n",
        "    train_accuracy = []\n",
        "    valid_loss = []\n",
        "    valid_accuracy = []\n",
        "\n",
        "\n",
        "\n",
        "    for epoch in range(epochs):\n",
        "\n",
        "        epoch_train_loss = 0.0\n",
        "        epoch_train_accuracy = 0.0\n",
        "\n",
        "        for train_data, train_target in train_loader:\n",
        "\n",
        "            optimizer.zero_grad()\n",
        "\n",
        "            output = model(train_data.to(device)).cpu()\n",
        "\n",
        "            loss = criterion(output, train_target)\n",
        "\n",
        "            epoch_train_loss += loss.item()\n",
        "\n",
        "\n",
        "            loss.backward()\n",
        "\n",
        "            optimizer.step()\n",
        "\n",
        "            accuracy = categorical_acc(output, train_target)\n",
        "\n",
        "            epoch_train_accuracy += accuracy.item()\n",
        "\n",
        "\n",
        "        epoch_train_loss = epoch_train_loss / len(train_loader)\n",
        "        train_loss.append(epoch_train_loss)\n",
        "        epoch_train_accuracy = epoch_train_accuracy / len(train_loader)\n",
        "        train_accuracy.append(epoch_train_accuracy)\n",
        "\n",
        "\n",
        "        valid_data, valid_target = next(iter(valid_loader))\n",
        "\n",
        "        output = model(valid_data.to(device)).cpu()\n",
        "\n",
        "        epoch_valid_loss = criterion(output, valid_target).item()\n",
        "        valid_loss.append(epoch_valid_loss)\n",
        "\n",
        "        epoch_valid_accuracy = categorical_acc(output, valid_target).item()\n",
        "        valid_accuracy.append(epoch_valid_accuracy)\n",
        "\n",
        "        print(f\"Epoch: {epoch+1}/{epochs} - Train loss {epoch_train_loss:.3f} - Train accuracy {epoch_train_accuracy:.3f} - Valid Loss {epoch_valid_loss:.3f} - Valid accuracy {epoch_valid_accuracy:.3f}\")\n",
        "\n",
        "    history = {\n",
        "        \"loss\": train_loss,\n",
        "        \"accuracy\": train_accuracy,\n",
        "        \"val_loss\": valid_loss,\n",
        "        \"val_accuracy\": valid_accuracy,\n",
        "    }\n",
        "    return history"
      ],
      "metadata": {
        "id": "3QPapqTx_Lgt"
      },
      "execution_count": null,
      "outputs": []
    },
    {
      "cell_type": "markdown",
      "metadata": {
        "id": "xTvXlEKQZdqx"
      },
      "source": [
        "### Datos\n",
        "Utilizaremos como dataset libros clasicos"
      ]
    },
    {
      "cell_type": "code",
      "source": [
        "#Aca validare si cargue correctamente los libros:\n",
        "import os\n",
        "if os.path.exists('./librostxt'):\n",
        "    print(\"La carpeta 'librostxt' existe.\")\n",
        "else:\n",
        "    print(\"La carpeta 'librostxt' NO existe. Asegúrate de ejecutar la celda de descarga.\")"
      ],
      "metadata": {
        "colab": {
          "base_uri": "https://localhost:8080/"
        },
        "id": "v1OO9kZZiX8Z",
        "outputId": "7c38e19f-7383-42dc-a7ed-3332ce9a0e11"
      },
      "execution_count": null,
      "outputs": [
        {
          "output_type": "stream",
          "name": "stdout",
          "text": [
            "La carpeta 'librostxt' existe.\n"
          ]
        }
      ]
    },
    {
      "cell_type": "code",
      "source": [
        "import os\n",
        "archivos_en_carpeta = os.listdir('./librostxt')\n",
        "print(\"Archivos encontrados en 'librostxt':\")\n",
        "for archivo in archivos_en_carpeta:\n",
        "    print(archivo)"
      ],
      "metadata": {
        "colab": {
          "base_uri": "https://localhost:8080/"
        },
        "id": "J4v4lQjjic2E",
        "outputId": "c9e02e91-ae77-48af-f286-e35473fa084a"
      },
      "execution_count": null,
      "outputs": [
        {
          "output_type": "stream",
          "name": "stdout",
          "text": [
            "Archivos encontrados en 'librostxt':\n",
            "Lucio Anneo Seneca - De la Brevedad de la Vida.txt\n",
            "Friedrich Nietzsche - Asi Hablo Zaratustra.txt\n",
            "Nicolas Maquiavelo - El Principe.txt\n",
            "Baltasar Gracian - El Arte de la Prudencia.pdf.txt\n"
          ]
        }
      ]
    },
    {
      "cell_type": "code",
      "metadata": {
        "id": "IkdPfrQJZdB5"
      },
      "source": [
        "def cargar_libros_clasicos(file_paths, book_names):\n",
        "    data = []\n",
        "    for file_path, book_name in zip(file_paths, book_names):\n",
        "        with open(file_path, 'r', encoding='latin-1') as f:\n",
        "            lines = f.read().splitlines()\n",
        "            for line in lines:\n",
        "                if line.strip():\n",
        "                    data.append({\n",
        "                        \"texto\": line,\n",
        "\n",
        "                    })\n",
        "\n",
        "    df = pd.DataFrame(data, columns=[\"texto\"])\n",
        "    return df"
      ],
      "execution_count": null,
      "outputs": []
    },
    {
      "cell_type": "code",
      "metadata": {
        "id": "6j-3nQ4lZjfb",
        "colab": {
          "base_uri": "https://localhost:8080/"
        },
        "outputId": "70917506-3bbb-40ca-b91a-f045459f186f"
      },
      "source": [
        "file_paths = [\n",
        "        \"/content/librostxt/Baltasar Gracian - El Arte de la Prudencia.pdf.txt\",\n",
        "        \"/content/librostxt/Friedrich Nietzsche - Asi Hablo Zaratustra.txt\",\n",
        "        \"/content/librostxt/Lucio Anneo Seneca - De la Brevedad de la Vida.txt\",\n",
        "        \"/content/librostxt/Nicolas Maquiavelo - El Principe.txt\"\n",
        "    ]\n",
        "\n",
        "book_names = [\n",
        "    \"Baltasar Gracian: El Arte de la Prudencia\",\n",
        "    \"Friedrich Nietzsche: Asi Hablo Zaratustra.tx\",\n",
        "    \"Lucio Anneo Seneca: De la Brevedad de la Vida\",\n",
        "    \"Nicolas Maquiavelo: El Principe\"\n",
        "]\n",
        "\n",
        "df = cargar_libros_clasicos(file_paths, book_names)\n",
        "\n",
        "print(df.head())\n",
        "print(f\"\\nTotal de líneas combinadas: {len(df)}\")"
      ],
      "execution_count": null,
      "outputs": [
        {
          "output_type": "stream",
          "name": "stdout",
          "text": [
            "                                   texto\n",
            "0               1El Arte de la Prudencia\n",
            "1                      Baltasar GraciÃ¡n\n",
            "2  textos.infoBiblioteca digital abierta\n",
            "3                      2Texto nÃºm. 3351\n",
            "4       TÃ­tulo: El Arte de la Prudencia\n",
            "\n",
            "Total de líneas combinadas: 16052\n"
          ]
        }
      ]
    },
    {
      "cell_type": "code",
      "metadata": {
        "id": "riT898QlZnmF",
        "colab": {
          "base_uri": "https://localhost:8080/"
        },
        "outputId": "c69afdec-79ca-4394-f763-c120e341fe4c"
      },
      "source": [
        "print(\"Cantidad de documentos:\", df.shape[0])"
      ],
      "execution_count": null,
      "outputs": [
        {
          "output_type": "stream",
          "name": "stdout",
          "text": [
            "Cantidad de documentos: 16052\n"
          ]
        }
      ]
    },
    {
      "cell_type": "markdown",
      "metadata": {
        "id": "ohS5Tao1d2KB"
      },
      "source": [
        "## 1 - Preprocesamiento de datos"
      ]
    },
    {
      "cell_type": "markdown",
      "source": [
        "### Vistazo a las primeras filas"
      ],
      "metadata": {
        "id": "eRxkzHvyUUUA"
      }
    },
    {
      "cell_type": "code",
      "metadata": {
        "id": "63Z2-Se2t27r",
        "colab": {
          "base_uri": "https://localhost:8080/",
          "height": 555
        },
        "outputId": "f487a9fb-d571-4496-be07-44cc50e89290"
      },
      "source": [
        "df.iloc[:15,0]"
      ],
      "execution_count": null,
      "outputs": [
        {
          "output_type": "execute_result",
          "data": {
            "text/plain": [
              "0                         1El Arte de la Prudencia\n",
              "1                                Baltasar GraciÃ¡n\n",
              "2            textos.infoBiblioteca digital abierta\n",
              "3                                2Texto nÃºm. 3351\n",
              "4                 TÃ­tulo: El Arte de la Prudencia\n",
              "5                         Autor: Baltasar GraciÃ¡n\n",
              "6                  Etiquetas : FilosofÃ­a, tratado\n",
              "7                                Editor: Edu Robsy\n",
              "8          Fecha de creaciÃ³n : 5 de marzo de 2018\n",
              "9     Fecha de modificaciÃ³n : 23 de julio de 2019\n",
              "10                               Edita textos.info\n",
              "11                                  Maison CarrÃ©e\n",
              "12                                    c/ Ramal, 48\n",
              "13                          07730 Alayor - Menorca\n",
              "14                                  Islas Baleares\n",
              "Name: texto, dtype: object"
            ],
            "text/html": [
              "<div>\n",
              "<style scoped>\n",
              "    .dataframe tbody tr th:only-of-type {\n",
              "        vertical-align: middle;\n",
              "    }\n",
              "\n",
              "    .dataframe tbody tr th {\n",
              "        vertical-align: top;\n",
              "    }\n",
              "\n",
              "    .dataframe thead th {\n",
              "        text-align: right;\n",
              "    }\n",
              "</style>\n",
              "<table border=\"1\" class=\"dataframe\">\n",
              "  <thead>\n",
              "    <tr style=\"text-align: right;\">\n",
              "      <th></th>\n",
              "      <th>texto</th>\n",
              "    </tr>\n",
              "  </thead>\n",
              "  <tbody>\n",
              "    <tr>\n",
              "      <th>0</th>\n",
              "      <td>1El Arte de la Prudencia</td>\n",
              "    </tr>\n",
              "    <tr>\n",
              "      <th>1</th>\n",
              "      <td>Baltasar GraciÃ¡n</td>\n",
              "    </tr>\n",
              "    <tr>\n",
              "      <th>2</th>\n",
              "      <td>textos.infoBiblioteca digital abierta</td>\n",
              "    </tr>\n",
              "    <tr>\n",
              "      <th>3</th>\n",
              "      <td>2Texto nÃºm. 3351</td>\n",
              "    </tr>\n",
              "    <tr>\n",
              "      <th>4</th>\n",
              "      <td>TÃ­tulo: El Arte de la Prudencia</td>\n",
              "    </tr>\n",
              "    <tr>\n",
              "      <th>5</th>\n",
              "      <td>Autor: Baltasar GraciÃ¡n</td>\n",
              "    </tr>\n",
              "    <tr>\n",
              "      <th>6</th>\n",
              "      <td>Etiquetas : FilosofÃ­a, tratado</td>\n",
              "    </tr>\n",
              "    <tr>\n",
              "      <th>7</th>\n",
              "      <td>Editor: Edu Robsy</td>\n",
              "    </tr>\n",
              "    <tr>\n",
              "      <th>8</th>\n",
              "      <td>Fecha de creaciÃ³n : 5 de marzo de 2018</td>\n",
              "    </tr>\n",
              "    <tr>\n",
              "      <th>9</th>\n",
              "      <td>Fecha de modificaciÃ³n : 23 de julio de 2019</td>\n",
              "    </tr>\n",
              "    <tr>\n",
              "      <th>10</th>\n",
              "      <td>Edita textos.info</td>\n",
              "    </tr>\n",
              "    <tr>\n",
              "      <th>11</th>\n",
              "      <td>Maison CarrÃ©e</td>\n",
              "    </tr>\n",
              "    <tr>\n",
              "      <th>12</th>\n",
              "      <td>c/ Ramal, 48</td>\n",
              "    </tr>\n",
              "    <tr>\n",
              "      <th>13</th>\n",
              "      <td>07730 Alayor - Menorca</td>\n",
              "    </tr>\n",
              "    <tr>\n",
              "      <th>14</th>\n",
              "      <td>Islas Baleares</td>\n",
              "    </tr>\n",
              "  </tbody>\n",
              "</table>\n",
              "</div><br><label><b>dtype:</b> object</label>"
            ]
          },
          "metadata": {},
          "execution_count": 14
        }
      ]
    },
    {
      "cell_type": "markdown",
      "source": [
        "### Concatenamos todos los rows en un solo valor"
      ],
      "metadata": {
        "id": "6ToBUiYAVOeX"
      }
    },
    {
      "cell_type": "code",
      "metadata": {
        "id": "kILsSoxTuHEr",
        "colab": {
          "base_uri": "https://localhost:8080/"
        },
        "outputId": "1507d47c-73b5-483a-a4c3-e0e06a44b296"
      },
      "source": [
        "corpus = df.apply(lambda row: ' '.join(row.values.astype(str)), axis=0)[0]"
      ],
      "execution_count": null,
      "outputs": [
        {
          "output_type": "stream",
          "name": "stderr",
          "text": [
            "<ipython-input-15-9eca7dd73672>:1: FutureWarning: Series.__getitem__ treating keys as positions is deprecated. In a future version, integer keys will always be treated as labels (consistent with DataFrame behavior). To access a value by position, use `ser.iloc[pos]`\n",
            "  corpus = df.apply(lambda row: ' '.join(row.values.astype(str)), axis=0)[0]\n"
          ]
        }
      ]
    },
    {
      "cell_type": "markdown",
      "source": [
        "### Transformar el corpus a tokens"
      ],
      "metadata": {
        "id": "6U8teCRGVRPJ"
      }
    },
    {
      "cell_type": "code",
      "metadata": {
        "id": "_KlsYd7_uOez",
        "colab": {
          "base_uri": "https://localhost:8080/"
        },
        "outputId": "ea4d8b49-db5d-4937-e2f8-87303dd9f606"
      },
      "source": [
        "tokens=text_to_word_sequence(corpus)\n",
        "# Vistazo general de los primeros tokens\n",
        "tokens[:20]"
      ],
      "execution_count": null,
      "outputs": [
        {
          "output_type": "execute_result",
          "data": {
            "text/plain": [
              "['1el',\n",
              " 'arte',\n",
              " 'de',\n",
              " 'la',\n",
              " 'prudencia',\n",
              " 'baltasar',\n",
              " 'graciã¡n',\n",
              " 'textos',\n",
              " 'infobiblioteca',\n",
              " 'digital',\n",
              " 'abierta',\n",
              " '2texto',\n",
              " 'nãºm',\n",
              " '3351',\n",
              " 'tã\\xadtulo',\n",
              " 'el',\n",
              " 'arte',\n",
              " 'de',\n",
              " 'la',\n",
              " 'prudencia']"
            ]
          },
          "metadata": {},
          "execution_count": 16
        }
      ]
    },
    {
      "cell_type": "code",
      "metadata": {
        "id": "GlqpZSJOJ1xQ",
        "colab": {
          "base_uri": "https://localhost:8080/"
        },
        "outputId": "e5853a6b-e857-4a76-d0a0-2d11a9b362c7"
      },
      "source": [
        "print(\"Cantidad de tokens en el corpus:\", len(tokens))"
      ],
      "execution_count": null,
      "outputs": [
        {
          "output_type": "stream",
          "name": "stdout",
          "text": [
            "Cantidad de tokens en el corpus: 168865\n"
          ]
        }
      ]
    },
    {
      "cell_type": "code",
      "metadata": {
        "id": "RhQevOynuYk2"
      },
      "source": [
        "# Código para hacer el desfazaje de las palabras\n",
        "# según el train_len\n",
        "text_sequences = []\n",
        "for i in range(train_len, len(tokens)):\n",
        "  seq = tokens[i-train_len:i]\n",
        "  text_sequences.append(seq)"
      ],
      "execution_count": null,
      "outputs": []
    },
    {
      "cell_type": "code",
      "metadata": {
        "id": "FU3FuqHSuhzq",
        "colab": {
          "base_uri": "https://localhost:8080/"
        },
        "outputId": "63e8ea1d-a41a-4eb1-d233-2a526cab0faf"
      },
      "source": [
        "text_sequences[:20]"
      ],
      "execution_count": null,
      "outputs": [
        {
          "output_type": "execute_result",
          "data": {
            "text/plain": [
              "[['1el', 'arte', 'de', 'la'],\n",
              " ['arte', 'de', 'la', 'prudencia'],\n",
              " ['de', 'la', 'prudencia', 'baltasar'],\n",
              " ['la', 'prudencia', 'baltasar', 'graciã¡n'],\n",
              " ['prudencia', 'baltasar', 'graciã¡n', 'textos'],\n",
              " ['baltasar', 'graciã¡n', 'textos', 'infobiblioteca'],\n",
              " ['graciã¡n', 'textos', 'infobiblioteca', 'digital'],\n",
              " ['textos', 'infobiblioteca', 'digital', 'abierta'],\n",
              " ['infobiblioteca', 'digital', 'abierta', '2texto'],\n",
              " ['digital', 'abierta', '2texto', 'nãºm'],\n",
              " ['abierta', '2texto', 'nãºm', '3351'],\n",
              " ['2texto', 'nãºm', '3351', 'tã\\xadtulo'],\n",
              " ['nãºm', '3351', 'tã\\xadtulo', 'el'],\n",
              " ['3351', 'tã\\xadtulo', 'el', 'arte'],\n",
              " ['tã\\xadtulo', 'el', 'arte', 'de'],\n",
              " ['el', 'arte', 'de', 'la'],\n",
              " ['arte', 'de', 'la', 'prudencia'],\n",
              " ['de', 'la', 'prudencia', 'autor'],\n",
              " ['la', 'prudencia', 'autor', 'baltasar'],\n",
              " ['prudencia', 'autor', 'baltasar', 'graciã¡n']]"
            ]
          },
          "metadata": {},
          "execution_count": 19
        }
      ]
    },
    {
      "cell_type": "markdown",
      "source": [
        "### Proceso de tokenizacion"
      ],
      "metadata": {
        "id": "1S0W3DzyVVpo"
      }
    },
    {
      "cell_type": "code",
      "metadata": {
        "id": "064N2jtLvHRg",
        "colab": {
          "base_uri": "https://localhost:8080/"
        },
        "outputId": "4fe4c775-eee0-45ed-f6c2-596548cce17c"
      },
      "source": [
        "tok = Tokenizer()\n",
        "tok.fit_on_texts(text_sequences)\n",
        "sequences = tok.texts_to_sequences(text_sequences)\n",
        "sequences[:20]"
      ],
      "execution_count": null,
      "outputs": [
        {
          "output_type": "execute_result",
          "data": {
            "text/plain": [
              "[[8348, 241, 1, 4],\n",
              " [241, 1, 4, 457],\n",
              " [1, 4, 457, 4083],\n",
              " [4, 457, 4083, 1651],\n",
              " [457, 4083, 1651, 916],\n",
              " [4083, 1651, 916, 3263],\n",
              " [1651, 916, 3263, 3264],\n",
              " [916, 3263, 3264, 2053],\n",
              " [3263, 3264, 2053, 5402],\n",
              " [3264, 2053, 5402, 3265],\n",
              " [2053, 5402, 3265, 8349],\n",
              " [5402, 3265, 8349, 1282],\n",
              " [3265, 8349, 1282, 5],\n",
              " [8349, 1282, 5, 241],\n",
              " [1282, 5, 241, 1],\n",
              " [5, 241, 1, 4],\n",
              " [241, 1, 4, 457],\n",
              " [1, 4, 457, 1503],\n",
              " [4, 457, 1503, 4083],\n",
              " [457, 1503, 4083, 1651]]"
            ]
          },
          "metadata": {},
          "execution_count": 20
        }
      ]
    },
    {
      "cell_type": "code",
      "metadata": {
        "id": "vwsvmvDKKXSP",
        "colab": {
          "base_uri": "https://localhost:8080/"
        },
        "outputId": "6b6754d1-549f-4e17-8d12-a978c5689680"
      },
      "source": [
        "print(\"Cantidad de rows del dataset:\", len(sequences))"
      ],
      "execution_count": null,
      "outputs": [
        {
          "output_type": "stream",
          "name": "stdout",
          "text": [
            "Cantidad de rows del dataset: 168861\n"
          ]
        }
      ]
    },
    {
      "cell_type": "markdown",
      "metadata": {
        "id": "QMVP4bj0vL2e"
      },
      "source": [
        "## 2 - Input y target"
      ]
    },
    {
      "cell_type": "code",
      "metadata": {
        "id": "e1vJTG65v4Qn",
        "colab": {
          "base_uri": "https://localhost:8080/"
        },
        "outputId": "09e9aa5c-1e1b-4f44-f718-cb13e9ec5436"
      },
      "source": [
        "arr_sequences = np.array(sequences)\n",
        "x_data = arr_sequences[:,:-1]\n",
        "y_data_int = arr_sequences[:,-1]\n",
        "\n",
        "print(x_data.shape)\n",
        "print(y_data_int.shape)"
      ],
      "execution_count": null,
      "outputs": [
        {
          "output_type": "stream",
          "name": "stdout",
          "text": [
            "(168861, 3)\n",
            "(168861,)\n"
          ]
        }
      ]
    },
    {
      "cell_type": "code",
      "metadata": {
        "id": "ln6kVWVlwBBs",
        "colab": {
          "base_uri": "https://localhost:8080/"
        },
        "outputId": "590d3aa2-5581-4704-c2be-41c8b8885733"
      },
      "source": [
        "# Palabras del vocabulario\n",
        "tok.index_word"
      ],
      "execution_count": null,
      "outputs": [
        {
          "output_type": "execute_result",
          "data": {
            "text/plain": [
              "{1: 'de',\n",
              " 2: 'y',\n",
              " 3: 'que',\n",
              " 4: 'la',\n",
              " 5: 'el',\n",
              " 6: 'a',\n",
              " 7: 'en',\n",
              " 8: 'los',\n",
              " 9: 'se',\n",
              " 10: 'no',\n",
              " 11: 'es',\n",
              " 12: 'con',\n",
              " 13: 'su',\n",
              " 14: 'lo',\n",
              " 15: 'un',\n",
              " 16: 'mã¡s',\n",
              " 17: 'por',\n",
              " 18: 'las',\n",
              " 19: 'para',\n",
              " 20: 'del',\n",
              " 21: 'al',\n",
              " 22: 'una',\n",
              " 23: 'yo',\n",
              " 24: 'como',\n",
              " 25: 'mi',\n",
              " 26: 'sus',\n",
              " 27: 'todo',\n",
              " 28: 'me',\n",
              " 29: 'pero',\n",
              " 30: 'ha',\n",
              " 31: 'ser',\n",
              " 32: 'zaratustra',\n",
              " 33: 'si',\n",
              " 34: 'le',\n",
              " 35: 'asã\\xad',\n",
              " 36: 'todos',\n",
              " 37: 'tambiã©n',\n",
              " 38: 'o',\n",
              " 39: 'sã\\xad',\n",
              " 40: 'tiempo',\n",
              " 41: 'son',\n",
              " 42: 'ni',\n",
              " 43: 'mismo',\n",
              " 44: 'â»',\n",
              " 45: 'pues',\n",
              " 46: 'sin',\n",
              " 47: 'cuando',\n",
              " 48: 'ã©l',\n",
              " 49: 'ya',\n",
              " 50: 'siempre',\n",
              " 51: 'tu',\n",
              " 52: 'mã\\xad',\n",
              " 53: 'cosas',\n",
              " 54: 'hombre',\n",
              " 55: 'ellos',\n",
              " 56: 'vosotros',\n",
              " 57: 'verdad',\n",
              " 58: 'hombres',\n",
              " 59: 'porque',\n",
              " 60: 'bien',\n",
              " 61: 'quien',\n",
              " 62: 'vez',\n",
              " 63: 'te',\n",
              " 64: 'tãº',\n",
              " 65: 'esto',\n",
              " 66: 'este',\n",
              " 67: 'tan',\n",
              " 68: 'he',\n",
              " 69: 'sobre',\n",
              " 70: 'tiene',\n",
              " 71: 'todas',\n",
              " 72: 'otro',\n",
              " 73: 'mas',\n",
              " 74: 'hay',\n",
              " 75: 'otros',\n",
              " 76: 'ahora',\n",
              " 77: 'vida',\n",
              " 78: 'gran',\n",
              " 79: 'entre',\n",
              " 80: 'hacia',\n",
              " 81: 'entonces',\n",
              " 82: 'han',\n",
              " 83: 'hasta',\n",
              " 84: 'sino',\n",
              " 85: 'prã\\xadncipe',\n",
              " 86: 'quiere',\n",
              " 87: 'les',\n",
              " 88: 'uno',\n",
              " 89: 'quã©',\n",
              " 90: 'os',\n",
              " 91: 'estã¡',\n",
              " 92: 'esta',\n",
              " 93: 'aquã\\xad',\n",
              " 94: 'mucho',\n",
              " 95: 'ti',\n",
              " 96: 'mejor',\n",
              " 97: 'mal',\n",
              " 98: 'eso',\n",
              " 99: 'sã³lo',\n",
              " 100: 'mis',\n",
              " 101: 'fue',\n",
              " 102: 'sea',\n",
              " 103: 'corazã³n',\n",
              " 104: 'â¡y',\n",
              " 105: 'habã\\xada',\n",
              " 106: 'ojos',\n",
              " 107: 'ella',\n",
              " 108: 'voluntad',\n",
              " 109: 'todavã\\xada',\n",
              " 110: 'alma',\n",
              " 111: 'poco',\n",
              " 112: 'mundo',\n",
              " 113: 'modo',\n",
              " 114: 'pueblo',\n",
              " 115: 'nunca',\n",
              " 116: 'toda',\n",
              " 117: 'oh',\n",
              " 118: 'dijo',\n",
              " 119: 'espã\\xadritu',\n",
              " 120: 'nuevo',\n",
              " 121: 'amor',\n",
              " 122: 'debe',\n",
              " 123: 'tierra',\n",
              " 124: 'muchos',\n",
              " 125: 'contra',\n",
              " 126: 'virtud',\n",
              " 127: 'ai',\n",
              " 128: 'aquel',\n",
              " 129: 'dã\\xada',\n",
              " 130: 'tal',\n",
              " 131: 'puede',\n",
              " 132: 'dios',\n",
              " 133: 'aunque',\n",
              " 134: 'saber',\n",
              " 135: 'allã\\xad',\n",
              " 136: 'incluso',\n",
              " 137: 'cosa',\n",
              " 138: 'otra',\n",
              " 139: 'dos',\n",
              " 140: 'hablã³',\n",
              " 141: 'vuestra',\n",
              " 142: 'ello',\n",
              " 143: 'menos',\n",
              " 144: 'ese',\n",
              " 145: 'nada',\n",
              " 146: 'algo',\n",
              " 147: 'aun',\n",
              " 148: 'aãºn',\n",
              " 149: 'tanto',\n",
              " 150: 'tener',\n",
              " 151: 'mã\\xados',\n",
              " 152: 'grandes',\n",
              " 153: 'cada',\n",
              " 154: 'felicidad',\n",
              " 155: 'donde',\n",
              " 156: 'nosotros',\n",
              " 157: 'misma',\n",
              " 158: 'nos',\n",
              " 159: 'antes',\n",
              " 160: 'algunos',\n",
              " 161: 'â¡ay',\n",
              " 162: 'despuã©s',\n",
              " 163: 'â¿no',\n",
              " 164: 'mismos',\n",
              " 165: 'vuestro',\n",
              " 166: 'demasiado',\n",
              " 167: 'vivir',\n",
              " 168: 'estado',\n",
              " 169: 'parte',\n",
              " 170: 'camino',\n",
              " 171: 'aquellos',\n",
              " 172: 'tienen',\n",
              " 173: 'era',\n",
              " 174: 'soy',\n",
              " 175: 'mayor',\n",
              " 176: 'estos',\n",
              " 177: 'palabras',\n",
              " 178: 'desde',\n",
              " 179: 'quiero',\n",
              " 180: 'solo',\n",
              " 181: 'poder',\n",
              " 182: 'â¿quã©',\n",
              " 183: 'hace',\n",
              " 184: 'fortuna',\n",
              " 185: 'has',\n",
              " 186: 'cual',\n",
              " 187: 'alguna',\n",
              " 188: 'â¡oh',\n",
              " 189: 'quienes',\n",
              " 190: 'fin',\n",
              " 191: 'estas',\n",
              " 192: 'decir',\n",
              " 193: 'gusto',\n",
              " 194: 'luego',\n",
              " 195: 'hoy',\n",
              " 196: 'cuerpo',\n",
              " 197: 'amigos',\n",
              " 198: 'grande',\n",
              " 199: 'dar',\n",
              " 200: 'muerte',\n",
              " 201: 'sido',\n",
              " 202: 'valor',\n",
              " 203: 'muchas',\n",
              " 204: 'estar',\n",
              " 205: 'unos',\n",
              " 206: 'luz',\n",
              " 207: 'buen',\n",
              " 208: 'causa',\n",
              " 209: 'muy',\n",
              " 210: 'sabidurã\\xada',\n",
              " 211: 'buenos',\n",
              " 212: 'hablar',\n",
              " 213: 'razã³n',\n",
              " 214: 'bueno',\n",
              " 215: 'amo',\n",
              " 216: 'efecto',\n",
              " 217: 'tus',\n",
              " 218: 'animales',\n",
              " 219: 'ã©ste',\n",
              " 220: 'hecho',\n",
              " 221: 'estã¡n',\n",
              " 222: 'esa',\n",
              " 223: 'medio',\n",
              " 224: 'hacer',\n",
              " 225: 'demã¡s',\n",
              " 226: 'habla',\n",
              " 227: 'hermanos',\n",
              " 228: 'encima',\n",
              " 229: 'mano',\n",
              " 230: 'mar',\n",
              " 231: 'â¡no',\n",
              " 232: 'enemigos',\n",
              " 233: 'largo',\n",
              " 234: 'â¡en',\n",
              " 235: 'serã¡',\n",
              " 236: 'lugar',\n",
              " 237: 'amigo',\n",
              " 238: 'â¡quã©',\n",
              " 239: 'e',\n",
              " 240: 'propia',\n",
              " 241: 'arte',\n",
              " 242: 'primero',\n",
              " 243: 'contrario',\n",
              " 244: 'palabra',\n",
              " 245: 'junto',\n",
              " 246: 'haber',\n",
              " 247: 'sol',\n",
              " 248: 'ã©sta',\n",
              " 249: 'ã©stos',\n",
              " 250: 'nadie',\n",
              " 251: 'necio',\n",
              " 252: 'viejo',\n",
              " 253: 'assã\\xad',\n",
              " 254: 'sabio',\n",
              " 255: 'ãºltimo',\n",
              " 256: 'noche',\n",
              " 257: 'dice',\n",
              " 258: 'llama',\n",
              " 259: 'embargo',\n",
              " 260: 'mujer',\n",
              " 261: 'hazer',\n",
              " 262: 'duda',\n",
              " 263: 'ellas',\n",
              " 264: 'hora',\n",
              " 265: 'estoy',\n",
              " 266: 'suerte',\n",
              " 267: 'cã³mo',\n",
              " 268: 'cielo',\n",
              " 269: 'estados',\n",
              " 270: 'placer',\n",
              " 271: 'mui',\n",
              " 272: 'sabe',\n",
              " 273: 'manos',\n",
              " 274: 'buena',\n",
              " 275: 'ver',\n",
              " 276: 'voz',\n",
              " 277: 'tales',\n",
              " 278: 'bastante',\n",
              " 279: 'habã©is',\n",
              " 280: 'quando',\n",
              " 281: 'superiores',\n",
              " 282: 'querer',\n",
              " 283: 'ante',\n",
              " 284: 'dicho',\n",
              " 285: 'prã\\xadncipes',\n",
              " 286: 'lejos',\n",
              " 287: 'guerra',\n",
              " 288: 'mientras',\n",
              " 289: 'tropas',\n",
              " 290: 'llega',\n",
              " 291: 'especie',\n",
              " 292: 'importa',\n",
              " 293: 'tampoco',\n",
              " 294: 'cabeza',\n",
              " 295: 'atenciã³n',\n",
              " 296: 'quieren',\n",
              " 297: 'aquella',\n",
              " 298: 'igual',\n",
              " 299: 'durante',\n",
              " 300: 'â¡cã³mo',\n",
              " 301: 'cordura',\n",
              " 302: 'pronto',\n",
              " 303: 'dentro',\n",
              " 304: 'siendo',\n",
              " 305: 'da',\n",
              " 306: 'algãºn',\n",
              " 307: 'primera',\n",
              " 308: 'casa',\n",
              " 309: 'esos',\n",
              " 310: 'italia',\n",
              " 311: 'falta',\n",
              " 312: 'â¿cã³mo',\n",
              " 313: 'caverna',\n",
              " 314: 'eres',\n",
              " 315: 'rey',\n",
              " 316: 'fuera',\n",
              " 317: 'pie',\n",
              " 318: 'visto',\n",
              " 319: 'mira',\n",
              " 320: 'reputaciã³n',\n",
              " 321: 'aire',\n",
              " 322: 'â¿quiã©n',\n",
              " 323: 'acaso',\n",
              " 324: 'fe',\n",
              " 325: 'otras',\n",
              " 326: 'peligro',\n",
              " 327: 'peor',\n",
              " 328: 'sangre',\n",
              " 329: 'montaã±as',\n",
              " 330: 'quiã©n',\n",
              " 331: 'semejante',\n",
              " 332: 'necedad',\n",
              " 333: 'ay',\n",
              " 334: 'parece',\n",
              " 335: 'viene',\n",
              " 336: 'enemigo',\n",
              " 337: 'â¿y',\n",
              " 338: 'compasiã³n',\n",
              " 339: 'veces',\n",
              " 340: 'vuestros',\n",
              " 341: 'arriba',\n",
              " 342: 'mucha',\n",
              " 343: 'nuevos',\n",
              " 344: 'paã\\xads',\n",
              " 345: 'propio',\n",
              " 346: 'deben',\n",
              " 347: 'hubiera',\n",
              " 348: 'pueden',\n",
              " 349: 'oro',\n",
              " 350: 'favor',\n",
              " 351: 'altura',\n",
              " 352: 'ciudad',\n",
              " 353: 'pequeã±o',\n",
              " 354: 'ã©se',\n",
              " 355: 'fuerza',\n",
              " 356: 'primer',\n",
              " 357: 'eternidad',\n",
              " 358: 'ningãºn',\n",
              " 359: 'nueva',\n",
              " 360: 'habiendo',\n",
              " 361: 'dolor',\n",
              " 362: 'sabios',\n",
              " 363: 'ocasiã³n',\n",
              " 364: 'serã\\xada',\n",
              " 365: 'conocer',\n",
              " 366: 'sombra',\n",
              " 367: 'sentado',\n",
              " 368: 'pequeã±as',\n",
              " 369: 'nuestro',\n",
              " 370: 'varã³n',\n",
              " 371: 'sola',\n",
              " 372: 'muerto',\n",
              " 373: 'soledad',\n",
              " 374: 'bajo',\n",
              " 375: 'aprendido',\n",
              " 376: 'ã¡nimo',\n",
              " 377: 'fondo',\n",
              " 378: 'oã\\xaddos',\n",
              " 379: 'viento',\n",
              " 380: 'pasado',\n",
              " 381: 'â¡tãº',\n",
              " 382: 'impresiã³n',\n",
              " 383: 'seã±or',\n",
              " 384: 'reino',\n",
              " 385: 'punto',\n",
              " 386: 'llegar',\n",
              " 387: 'hizo',\n",
              " 388: 'tenga',\n",
              " 389: 'libertad',\n",
              " 390: 'caso',\n",
              " 391: 'oã\\xaddo',\n",
              " 392: 'lado',\n",
              " 393: 'fuego',\n",
              " 394: 'difã\\xadcil',\n",
              " 395: 'boca',\n",
              " 396: 'lã\\xadcito',\n",
              " 397: 'manera',\n",
              " 398: 'vezes',\n",
              " 399: 'buenas',\n",
              " 400: 'fueron',\n",
              " 401: 'comãºn',\n",
              " 402: 'llegado',\n",
              " 403: 'â¿por',\n",
              " 404: 'tengo',\n",
              " 405: 'vuelto',\n",
              " 406: 'respondiã³',\n",
              " 407: 'futuro',\n",
              " 408: 'torno',\n",
              " 409: 'haze',\n",
              " 410: 'ninguno',\n",
              " 411: 'superior',\n",
              " 412: 'aã±os',\n",
              " 413: 'nuevas',\n",
              " 414: 'quieres',\n",
              " 415: 'alto',\n",
              " 416: 'morir',\n",
              " 417: 'necesidad',\n",
              " 418: 'duque',\n",
              " 419: 'prendas',\n",
              " 420: 'pies',\n",
              " 421: 'silencio',\n",
              " 422: 'hijos',\n",
              " 423: 'sentido',\n",
              " 424: 'conocimiento',\n",
              " 425: 'dado',\n",
              " 426: 'dã\\xadas',\n",
              " 427: 'profundo',\n",
              " 428: 'hacerse',\n",
              " 429: 'estaba',\n",
              " 430: 'tienes',\n",
              " 431: 'cuanto',\n",
              " 432: 'mã\\xada',\n",
              " 433: 'sãºbditos',\n",
              " 434: 'nuestra',\n",
              " 435: 'basta',\n",
              " 436: 'hazen',\n",
              " 437: 'vive',\n",
              " 438: 'ir',\n",
              " 439: 'desprecio',\n",
              " 440: 'va',\n",
              " 441: 'pensamientos',\n",
              " 442: 'alrededor',\n",
              " 443: 'â¡mas',\n",
              " 444: 'dioses',\n",
              " 445: 'crã©dito',\n",
              " 446: 'deseo',\n",
              " 447: 'jamã¡s',\n",
              " 448: 'delante',\n",
              " 449: 'medios',\n",
              " 450: 'tomar',\n",
              " 451: 'ãºltima',\n",
              " 452: 'nombre',\n",
              " 453: 'virtudes',\n",
              " 454: 'fuerte',\n",
              " 455: 'ahã\\xad',\n",
              " 456: 'papa',\n",
              " 457: 'prudencia',\n",
              " 458: 'quanto',\n",
              " 459: 'menester',\n",
              " 460: 'reyes',\n",
              " 461: 'fã¡cil',\n",
              " 462: 'leã³n',\n",
              " 463: 'seguridad',\n",
              " 464: 'seguir',\n",
              " 465: 'gente',\n",
              " 466: 'semejantes',\n",
              " 467: 'vino',\n",
              " 468: 'â¡pero',\n",
              " 469: 'necesario',\n",
              " 470: 'iba',\n",
              " 471: 'allã¡',\n",
              " 472: 'mã\\xado',\n",
              " 473: 'â¡pues',\n",
              " 474: 'quisiera',\n",
              " 475: 'alguien',\n",
              " 476: 'alejandro',\n",
              " 477: 'sean',\n",
              " 478: 'mayores',\n",
              " 479: 'larga',\n",
              " 480: 'saben',\n",
              " 481: 'salir',\n",
              " 482: 'odio',\n",
              " 483: 'ninguna',\n",
              " 484: 'almas',\n",
              " 485: 'paz',\n",
              " 486: 'perro',\n",
              " 487: 'volver',\n",
              " 488: 'superhombre',\n",
              " 489: 'acerca',\n",
              " 490: 'ciertamente',\n",
              " 491: 'vuelve',\n",
              " 492: 'â¡bien',\n",
              " 493: 'daã±o',\n",
              " 494: 'pocos',\n",
              " 495: 'necios',\n",
              " 496: 'puro',\n",
              " 497: 'creer',\n",
              " 498: 'instante',\n",
              " 499: 'hijo',\n",
              " 500: 'ademã¡s',\n",
              " 501: 'animal',\n",
              " 502: 'anhelo',\n",
              " 503: 'â¿o',\n",
              " 504: 'grito',\n",
              " 505: 'habã\\xadan',\n",
              " 506: 'estimaciã³n',\n",
              " 507: 'grandeza',\n",
              " 508: 'aprender',\n",
              " 509: 'obra',\n",
              " 510: 'naturaleza',\n",
              " 511: 'trabajo',\n",
              " 512: 'tarde',\n",
              " 513: 'libre',\n",
              " 514: 'haya',\n",
              " 515: 'santo',\n",
              " 516: 'presente',\n",
              " 517: 'miedo',\n",
              " 518: 'hemos',\n",
              " 519: 'caminos',\n",
              " 520: 'plebe',\n",
              " 521: 'asno',\n",
              " 522: 'autoridad',\n",
              " 523: 'francia',\n",
              " 524: 'llegã³',\n",
              " 525: 'afecto',\n",
              " 526: 'cuidado',\n",
              " 527: 'puesto',\n",
              " 528: 'armas',\n",
              " 529: 'cuya',\n",
              " 530: 'querã\\xada',\n",
              " 531: 'cansado',\n",
              " 532: 'momento',\n",
              " 533: 'sueã±o',\n",
              " 534: 'gobierno',\n",
              " 535: 'vale',\n",
              " 536: 'perfecciã³n',\n",
              " 537: 'mala',\n",
              " 538: 'aquello',\n",
              " 539: 'risa',\n",
              " 540: 'gentes',\n",
              " 541: 'podrã\\xada',\n",
              " 542: 'correr',\n",
              " 543: 'tuvo',\n",
              " 544: 'menudo',\n",
              " 545: 'venir',\n",
              " 546: 'rostro',\n",
              " 547: 'partido',\n",
              " 548: 'dormir',\n",
              " 549: 'encontrado',\n",
              " 550: 'sed',\n",
              " 551: 'ocaso',\n",
              " 552: 'pequeã±a',\n",
              " 553: 'mirada',\n",
              " 554: 'valores',\n",
              " 555: 'sois',\n",
              " 556: 'ãºnicamente',\n",
              " 557: 'pueblos',\n",
              " 558: 'vuestras',\n",
              " 559: 'padre',\n",
              " 560: 'ingenio',\n",
              " 561: 'justo',\n",
              " 562: 'soberanã\\xada',\n",
              " 563: 'primeros',\n",
              " 564: 'segãºn',\n",
              " 565: 'mil',\n",
              " 566: 'vieja',\n",
              " 567: 'gusta',\n",
              " 568: 'llaman',\n",
              " 569: 'ocurriã³',\n",
              " 570: 'volviã³',\n",
              " 571: 'paso',\n",
              " 572: 'â¡a',\n",
              " 573: 'debã©is',\n",
              " 574: 'adivino',\n",
              " 575: 'poetas',\n",
              " 576: 'destino',\n",
              " 577: 'suele',\n",
              " 578: 'ãºnico',\n",
              " 579: 'fama',\n",
              " 580: 'consiste',\n",
              " 581: 'amistad',\n",
              " 582: 'amar',\n",
              " 583: 'maã±ana',\n",
              " 584: 'personas',\n",
              " 585: 'mediodã\\xada',\n",
              " 586: 'digo',\n",
              " 587: 'eran',\n",
              " 588: 'ambiciã³n',\n",
              " 589: 'tres',\n",
              " 590: 'temer',\n",
              " 591: 'â«â¡quã©',\n",
              " 592: 'â¿es',\n",
              " 593: 'creador',\n",
              " 594: 'malo',\n",
              " 595: 'milicia',\n",
              " 596: 'adelante',\n",
              " 597: 'alguno',\n",
              " 598: 'belleza',\n",
              " 599: 'venganza',\n",
              " 600: 'tenido',\n",
              " 601: 'poderoso',\n",
              " 602: 'dicen',\n",
              " 603: 'nuestros',\n",
              " 604: 'meta',\n",
              " 605: 'esperanza',\n",
              " 606: 'ã¡rbol',\n",
              " 607: 'necesita',\n",
              " 608: 'crear',\n",
              " 609: 'llamo',\n",
              " 610: 'dominio',\n",
              " 611: 'romanos',\n",
              " 612: 'tanta',\n",
              " 613: 'suyo',\n",
              " 614: 'edad',\n",
              " 615: 'lleva',\n",
              " 616: 'miel',\n",
              " 617: 'perder',\n",
              " 618: 'roma',\n",
              " 619: 'caer',\n",
              " 620: 'travã©s',\n",
              " 621: 'luna',\n",
              " 622: 'niã±o',\n",
              " 623: 'nã¡usea',\n",
              " 624: 'voy',\n",
              " 625: 'â\\x80\\x9d',\n",
              " 626: 'â¡el',\n",
              " 627: 'abajo',\n",
              " 628: 'piernas',\n",
              " 629: 'bailar',\n",
              " 630: 'â¡por',\n",
              " 631: 'hacen',\n",
              " 632: 'propios',\n",
              " 633: 'fuerzas',\n",
              " 634: 'trato',\n",
              " 635: 'agua',\n",
              " 636: 'pueda',\n",
              " 637: 'facilidad',\n",
              " 638: 'agena',\n",
              " 639: 'puerta',\n",
              " 640: 'conservar',\n",
              " 641: 'dan',\n",
              " 642: 'caminar',\n",
              " 643: 'mirar',\n",
              " 644: 'cerca',\n",
              " 645: 'nãºmero',\n",
              " 646: 'encontrar',\n",
              " 647: 'estuvo',\n",
              " 648: 'elevado',\n",
              " 649: 'debes',\n",
              " 650: 'pequeã±os',\n",
              " 651: 'encontrã©',\n",
              " 652: 'ruido',\n",
              " 653: 'malvado',\n",
              " 654: 'mago',\n",
              " 655: 'obras',\n",
              " 656: 'persona',\n",
              " 657: 'genio',\n",
              " 658: 'llevar',\n",
              " 659: 'cuerdo',\n",
              " 660: 'sutileza',\n",
              " 661: 'hablan',\n",
              " 662: 'concepto',\n",
              " 663: 'busca',\n",
              " 664: 'estando',\n",
              " 665: 'piedra',\n",
              " 666: 'ama',\n",
              " 667: 'suelo',\n",
              " 668: 'montaã±a',\n",
              " 669: 'final',\n",
              " 670: 'hacerlo',\n",
              " 671: 'canciã³n',\n",
              " 672: 'maldad',\n",
              " 673: 'solamente',\n",
              " 674: 'leyes',\n",
              " 675: 'entendido',\n",
              " 676: 'acaba',\n",
              " 677: 'segunda',\n",
              " 678: 'obrar',\n",
              " 679: 'justicia',\n",
              " 680: 'nube',\n",
              " 681: 'unas',\n",
              " 682: 'suya',\n",
              " 683: 'corre',\n",
              " 684: 'mejores',\n",
              " 685: 'oã\\xadr',\n",
              " 686: 'circunstancias',\n",
              " 687: 'acciã³n',\n",
              " 688: 'honra',\n",
              " 689: 'podrã¡',\n",
              " 690: 'cierto',\n",
              " 691: 'buscar',\n",
              " 692: 'victoria',\n",
              " 693: 'atrã¡s',\n",
              " 694: 'honor',\n",
              " 695: 'casi',\n",
              " 696: 'tenã\\xada',\n",
              " 697: 'ã¡guila',\n",
              " 698: 'â¡yo',\n",
              " 699: 'detrã¡s',\n",
              " 700: 'existe',\n",
              " 701: 'medianoche',\n",
              " 702: 'somos',\n",
              " 703: 'matrimonio',\n",
              " 704: 'sabes',\n",
              " 705: '1',\n",
              " 706: 'natural',\n",
              " 707: 'conoce',\n",
              " 708: 'entendimiento',\n",
              " 709: 'vulgar',\n",
              " 710: 'coraã§ã³n',\n",
              " 711: 'queda',\n",
              " 712: 'poner',\n",
              " 713: 'mentira',\n",
              " 714: 've',\n",
              " 715: 'cruel',\n",
              " 716: 'puso',\n",
              " 717: 'viejos',\n",
              " 718: 'desierto',\n",
              " 719: 'piel',\n",
              " 720: 'niã±os',\n",
              " 721: 'demencia',\n",
              " 722: 'conciencia',\n",
              " 723: 'venido',\n",
              " 724: 'pobre',\n",
              " 725: 'tablas',\n",
              " 726: 'sã©',\n",
              " 727: 'â¡vosotros',\n",
              " 728: 'deseos',\n",
              " 729: 'venecianos',\n",
              " 730: 'conducta',\n",
              " 731: 'pudo',\n",
              " 732: 'vio',\n",
              " 733: 'astucia',\n",
              " 734: 'menor',\n",
              " 735: 'opiniã³n',\n",
              " 736: 'gracia',\n",
              " 737: 'profundidad',\n",
              " 738: 'pesar',\n",
              " 739: 'castigo',\n",
              " 740: 'cuenta',\n",
              " 741: 'rayo',\n",
              " 742: 'cara',\n",
              " 743: 'pensamiento',\n",
              " 744: 'males',\n",
              " 745: 'socorro',\n",
              " 746: 'perdido',\n",
              " 747: 'serpiente',\n",
              " 748: 'atardecer',\n",
              " 749: 'envidia',\n",
              " 750: 'alta',\n",
              " 751: 'continãºa',\n",
              " 752: 'frã\\xado',\n",
              " 753: 'solitario',\n",
              " 754: 'cuales',\n",
              " 755: 'viejas',\n",
              " 756: 'extraã±o',\n",
              " 757: 'dio',\n",
              " 758: 'padres',\n",
              " 759: 'espaã±a',\n",
              " 760: 'acciones',\n",
              " 761: 'vista',\n",
              " 762: 'apenas',\n",
              " 763: 'interior',\n",
              " 764: 'callar',\n",
              " 765: 'quiera',\n",
              " 766: 'sale',\n",
              " 767: 'eterno',\n",
              " 768: 'diferentes',\n",
              " 769: 'engaã±o',\n",
              " 770: 'sufrimiento',\n",
              " 771: 'conviene',\n",
              " 772: 'partes',\n",
              " 773: 'hambre',\n",
              " 774: 'horas',\n",
              " 775: 'vivo',\n",
              " 776: 'tenemos',\n",
              " 777: 'ruina',\n",
              " 778: 'juntos',\n",
              " 779: 'lleno',\n",
              " 780: 'llamado',\n",
              " 781: 'noble',\n",
              " 782: 'profunda',\n",
              " 783: 'convertido',\n",
              " 784: 'feo',\n",
              " 785: 'orgullo',\n",
              " 786: 'duro',\n",
              " 787: 'reã\\xadr',\n",
              " 788: 'demonio',\n",
              " 789: 'conmigo',\n",
              " 790: 'vano',\n",
              " 791: 'vi',\n",
              " 792: 'nobles',\n",
              " 793: 'corazones',\n",
              " 794: 'doctrina',\n",
              " 795: 'lengua',\n",
              " 796: 'tiempos',\n",
              " 797: 'proceder',\n",
              " 798: 'nace',\n",
              " 799: 'llegan',\n",
              " 800: 'destreza',\n",
              " 801: 'hallan',\n",
              " 802: 'dezir',\n",
              " 803: 'conseguir',\n",
              " 804: 'fã¡cilmente',\n",
              " 805: 'segundo',\n",
              " 806: 'prudente',\n",
              " 807: 'perfecto',\n",
              " 808: 'polã\\xadtica',\n",
              " 809: 'siquiera',\n",
              " 810: 'pesada',\n",
              " 811: 'cuyo',\n",
              " 812: 'â¿dã³nde',\n",
              " 813: 'llena',\n",
              " 814: 'capaz',\n",
              " 815: 'riã³',\n",
              " 816: 'hubo',\n",
              " 817: 'deberã\\xada',\n",
              " 818: 'veo',\n",
              " 819: 'ardiente',\n",
              " 820: 'â¿a',\n",
              " 821: 'creadores',\n",
              " 822: 'volando',\n",
              " 823: 'esas',\n",
              " 824: 'â¡asã\\xad',\n",
              " 825: 'lã¡grimas',\n",
              " 826: 'hermano',\n",
              " 827: 'encuentra',\n",
              " 828: 'mares',\n",
              " 829: 'propias',\n",
              " 830: 'posesiã³n',\n",
              " 831: 'ejemplo',\n",
              " 832: 'podã\\xada',\n",
              " 833: 'mantenerse',\n",
              " 834: 'iglesia',\n",
              " 835: 'general',\n",
              " 836: 'empleo',\n",
              " 837: 'azar',\n",
              " 838: 'passiã³n',\n",
              " 839: 'consuelo',\n",
              " 840: 'materia',\n",
              " 841: 'artificio',\n",
              " 842: 'perfecciones',\n",
              " 843: 'violencia',\n",
              " 844: 'eminencia',\n",
              " 845: 'corriente',\n",
              " 846: 'dã³nde',\n",
              " 847: 'humano',\n",
              " 848: 'riesgo',\n",
              " 849: 'aprecio',\n",
              " 850: 'respeto',\n",
              " 851: 'seguro',\n",
              " 852: 'vencer',\n",
              " 853: 'remedio',\n",
              " 854: 'derecho',\n",
              " 855: 'razones',\n",
              " 856: 'cien',\n",
              " 857: 'ven',\n",
              " 858: 'estrellas',\n",
              " 859: 'bosque',\n",
              " 860: 'hablado',\n",
              " 861: 'tonterã\\xada',\n",
              " 862: 'enfermo',\n",
              " 863: 'â¡para',\n",
              " 864: 'joven',\n",
              " 865: 'ã©sa',\n",
              " 866: 'soldados',\n",
              " 867: 'discã\\xadpulos',\n",
              " 868: 'fuertes',\n",
              " 869: 'espejo',\n",
              " 870: 'juizio',\n",
              " 871: 'ã\\x89ste',\n",
              " 872: '2',\n",
              " 873: 'cae',\n",
              " 874: 'ageno',\n",
              " 875: 'dicha',\n",
              " 876: 'fuere',\n",
              " 877: 'favorable',\n",
              " 878: 'intenciã³n',\n",
              " 879: 'entrar',\n",
              " 880: 'alas',\n",
              " 881: 'interã©s',\n",
              " 882: 'aliento',\n",
              " 883: 'malos',\n",
              " 884: 'memoria',\n",
              " 885: 'eternamente',\n",
              " 886: 'ayer',\n",
              " 887: 'quedã³',\n",
              " 888: 'defectos',\n",
              " 889: 'dura',\n",
              " 890: 'especialmente',\n",
              " 891: 'libres',\n",
              " 892: 'vencido',\n",
              " 893: 'vicios',\n",
              " 894: 'ojo',\n",
              " 895: 'hayan',\n",
              " 896: 'deja',\n",
              " 897: 'regalos',\n",
              " 898: 'hubiese',\n",
              " 899: 'pecado',\n",
              " 900: 'pregunta',\n",
              " 901: 'sueã±os',\n",
              " 902: 'â¡que',\n",
              " 903: 'pudor',\n",
              " 904: 'prã³jimo',\n",
              " 905: 'estã¡s',\n",
              " 906: 'nubes',\n",
              " 907: 'ciudades',\n",
              " 908: 'historia',\n",
              " 909: 'egoã\\xadsmo',\n",
              " 910: 'vientos',\n",
              " 911: 'chusma',\n",
              " 912: 'finalmente',\n",
              " 913: 'sepulcros',\n",
              " 914: 'contar',\n",
              " 915: 'ejã©rcito',\n",
              " 916: 'textos',\n",
              " 917: 'islas',\n",
              " 918: 'juan',\n",
              " 919: 'diligencia',\n",
              " 920: 'juego',\n",
              " 921: 'entender',\n",
              " 922: 'provecho',\n",
              " 923: 'atento',\n",
              " 924: 'seã±ores',\n",
              " 925: 'espera',\n",
              " 926: 'dificultad',\n",
              " 927: 'entereza',\n",
              " 928: 'halla',\n",
              " 929: 'sirve',\n",
              " 930: 'estrella',\n",
              " 931: 'hase',\n",
              " 932: 'discurso',\n",
              " 933: 'estã©',\n",
              " 934: 'hã©roe',\n",
              " 935: 'van',\n",
              " 936: 'carã¡cter',\n",
              " 937: 'gloria',\n",
              " 938: 'pensar',\n",
              " 939: 'subir',\n",
              " 940: 'sigue',\n",
              " 941: 'estã³mago',\n",
              " 942: 'tendrã¡',\n",
              " 943: 'pone',\n",
              " 944: 'patria',\n",
              " 945: 'pena',\n",
              " 946: 'enfermedad',\n",
              " 947: 'particular',\n",
              " 948: 'pecho',\n",
              " 949: 'teniendo',\n",
              " 950: 'rã\\xade',\n",
              " 951: 'cambio',\n",
              " 952: 'fatiga',\n",
              " 953: 'soberano',\n",
              " 954: 'carga',\n",
              " 955: 'bosques',\n",
              " 956: 'pã¡jaros',\n",
              " 957: 'vergã¼enza',\n",
              " 958: 'cualquier',\n",
              " 959: 'esperanzas',\n",
              " 960: 'abismo',\n",
              " 961: 'forma',\n",
              " 962: 'vivido',\n",
              " 963: 'mirã³',\n",
              " 964: 'compaã±eros',\n",
              " 965: 'justos',\n",
              " 966: 'podido',\n",
              " 967: 'tribulaciã³n',\n",
              " 968: 'digno',\n",
              " 969: 'salto',\n",
              " 970: 'cantar',\n",
              " 971: 'enseã±a',\n",
              " 972: 'estaban',\n",
              " 973: 'ido',\n",
              " 974: 'poeta',\n",
              " 975: 'i',\n",
              " 976: 'cualquiera',\n",
              " 977: 'dificultades',\n",
              " 978: 'aã±o',\n",
              " 979: 'orden',\n",
              " 980: 'costumbres',\n",
              " 981: 'veneraciã³n',\n",
              " 982: 'tantos',\n",
              " 983: 'siglo',\n",
              " 984: 'viven',\n",
              " 985: 'especial',\n",
              " 986: 'suelen',\n",
              " 987: 'pasã³',\n",
              " 988: 'ã\\x89sta',\n",
              " 989: 'usar',\n",
              " 990: 'corto',\n",
              " 991: 'mã©rito',\n",
              " 992: 'huye',\n",
              " 993: 'varones',\n",
              " 994: 'â«el',\n",
              " 995: 'capacidad',\n",
              " 996: 'pierde',\n",
              " 997: 'toma',\n",
              " 998: 'imagen',\n",
              " 999: 'humana',\n",
              " 1000: 'dignidad',\n",
              " ...}"
            ]
          },
          "metadata": {},
          "execution_count": 23
        }
      ]
    },
    {
      "cell_type": "code",
      "metadata": {
        "id": "gJgVhq1zwEpf",
        "colab": {
          "base_uri": "https://localhost:8080/"
        },
        "outputId": "bf5a104e-709a-470c-afb8-376a486b5c0a"
      },
      "source": [
        "# Cantidad de palabras en el vocabulario\n",
        "vocab_size = len(tok.word_counts)\n",
        "vocab_size"
      ],
      "execution_count": null,
      "outputs": [
        {
          "output_type": "execute_result",
          "data": {
            "text/plain": [
              "19955"
            ]
          },
          "metadata": {},
          "execution_count": 24
        }
      ]
    },
    {
      "cell_type": "code",
      "metadata": {
        "id": "qWjNrNx9wM1b",
        "colab": {
          "base_uri": "https://localhost:8080/"
        },
        "outputId": "abe53564-d8a7-4698-abe5-a15a6122faf4"
      },
      "source": [
        "# ¡Ojo! y_data_int comienza en \"1\" en vez de \"0\"\n",
        "# valor minimo:\n",
        "min(y_data_int)"
      ],
      "execution_count": null,
      "outputs": [
        {
          "output_type": "execute_result",
          "data": {
            "text/plain": [
              "1"
            ]
          },
          "metadata": {},
          "execution_count": 25
        }
      ]
    },
    {
      "cell_type": "code",
      "metadata": {
        "id": "gIg2e2WCwXbG",
        "colab": {
          "base_uri": "https://localhost:8080/"
        },
        "outputId": "a970baa4-0be7-4348-e573-8e8d3ff9bf27"
      },
      "source": [
        "# Hay que restar 1\n",
        "y_data_int_offset = y_data_int - 1\n",
        "min(y_data_int_offset)"
      ],
      "execution_count": null,
      "outputs": [
        {
          "output_type": "execute_result",
          "data": {
            "text/plain": [
              "0"
            ]
          },
          "metadata": {},
          "execution_count": 26
        }
      ]
    },
    {
      "cell_type": "code",
      "source": [
        "assert (y_data_int > 0).all()\n"
      ],
      "metadata": {
        "id": "X3dhSUSgOpM1"
      },
      "execution_count": null,
      "outputs": []
    },
    {
      "cell_type": "markdown",
      "source": [
        "Aclaracion:\n",
        "\n",
        "No realice one-hot encoding porque CrossEntropyLoss no lo necesita. Esta función espera que las etiquetas sean índices enteros de clase, no vectores. Si hiciéramos one-hot, estaríamos pasando un formato incorrecto y el loss no funcionaría como corresponde.\n",
        "\n",
        "https://pytorch.org/docs/stable/generated/torch.nn.CrossEntropyLoss.html"
      ],
      "metadata": {
        "id": "z-OQ19lplkmz"
      }
    },
    {
      "cell_type": "code",
      "source": [
        "class Data(Dataset):\n",
        "    def __init__(self, x, y):\n",
        "\n",
        "        self.x = torch.from_numpy(x.astype(np.int32))\n",
        "\n",
        "        self.y = torch.from_numpy(y.astype(np.int64))\n",
        "\n",
        "\n",
        "        self.len = self.y.shape[0]\n",
        "\n",
        "    def __getitem__(self,index):\n",
        "        return self.x[index], self.y[index]\n",
        "\n",
        "    def __len__(self):\n",
        "        return self.len\n",
        "\n",
        "data_set = Data(x_data, y_data_int_offset)\n",
        "\n",
        "input_size = data_set.x.shape[1]\n",
        "print(\"input_size:\", input_size)\n",
        "\n",
        "output_dim = vocab_size\n",
        "\n",
        "print(\"Output dim\", output_dim)"
      ],
      "metadata": {
        "colab": {
          "base_uri": "https://localhost:8080/"
        },
        "id": "cVO59n_3BEyR",
        "outputId": "7d40b179-046e-4b3f-80bd-7509e85c9d22"
      },
      "execution_count": null,
      "outputs": [
        {
          "output_type": "stream",
          "name": "stdout",
          "text": [
            "input_size: 3\n",
            "Output dim 19955\n"
          ]
        }
      ]
    },
    {
      "cell_type": "code",
      "source": [
        "torch.manual_seed(12)\n",
        "valid_set_size = int(data_set.len * 0.2)\n",
        "train_set_size = data_set.len - valid_set_size\n",
        "\n",
        "train_set = torch.utils.data.Subset(data_set, range(train_set_size))\n",
        "valid_set = torch.utils.data.Subset(data_set, range(train_set_size, data_set.len))\n",
        "\n",
        "print(\"Tamaño del conjunto de entrenamiento:\", len(train_set))\n",
        "print(\"Tamaño del conjunto de validacion:\", len(valid_set))\n",
        "\n",
        "train_batch_size = 32\n",
        "train_loader = torch.utils.data.DataLoader(train_set, batch_size=train_batch_size, shuffle=True)\n",
        "valid_loader = torch.utils.data.DataLoader(valid_set, batch_size=len(valid_set), shuffle=False)"
      ],
      "metadata": {
        "colab": {
          "base_uri": "https://localhost:8080/"
        },
        "id": "9_HzwNSwCISC",
        "outputId": "84ed5dec-e6ee-4e9a-e419-3327804c5ac4"
      },
      "execution_count": null,
      "outputs": [
        {
          "output_type": "stream",
          "name": "stdout",
          "text": [
            "Tamaño del conjunto de entrenamiento: 135089\n",
            "Tamaño del conjunto de validacion: 33772\n"
          ]
        }
      ]
    },
    {
      "cell_type": "markdown",
      "metadata": {
        "id": "GmJWNyxQwfCE"
      },
      "source": [
        "## 3 - Entrenar el modelo"
      ]
    },
    {
      "cell_type": "code",
      "source": [
        "class Model1(nn.Module):\n",
        "    def __init__(self, vocab_size, output_dim):\n",
        "        super().__init__()\n",
        "\n",
        "        self.lstm_size = 64\n",
        "        self.num_layers = 2\n",
        "        self.embedding = nn.Embedding(num_embeddings=vocab_size+1, embedding_dim=5, padding_idx=0)\n",
        "        self.lstm1 = nn.LSTM(input_size=5, hidden_size=self.lstm_size, batch_first=True,\n",
        "                            num_layers=self.num_layers, dropout=0.5)\n",
        "        self.fc1 = nn.Linear(in_features=self.lstm_size, out_features=32)\n",
        "        self.fc2 = nn.Linear(in_features=32, out_features=output_dim)\n",
        "\n",
        "        self.relu = nn.ReLU()\n",
        "        self.softmax = nn.Softmax(dim=1)\n",
        "\n",
        "    def forward(self, x, prev_state=None):\n",
        "        if prev_state is None:\n",
        "            batch_size = x.shape[0]\n",
        "            prev_state = self.init_hidden(batch_size)\n",
        "\n",
        "        out = self.embedding(x)\n",
        "        lstm_output, (ht, ct) = self.lstm1(out, prev_state)\n",
        "        out = self.relu(self.fc1(lstm_output[:,-1,:]))\n",
        "\n",
        "        out = self.fc2(out)\n",
        "\n",
        "        return out\n",
        "\n",
        "    def init_hidden(self, batch_size):\n",
        "        return (torch.zeros(self.num_layers, batch_size, self.lstm_size).to(device),\n",
        "                torch.zeros(self.num_layers, batch_size, self.lstm_size).to(device))"
      ],
      "metadata": {
        "id": "VsdYibawCkHi"
      },
      "execution_count": null,
      "outputs": []
    },
    {
      "cell_type": "code",
      "source": [
        "model1 = Model1(vocab_size=vocab_size, output_dim=output_dim)\n",
        "if cuda: model1.cuda()\n",
        "\n",
        "model1_optimizer = torch.optim.Adam(model1.parameters(), lr=0.001, weight_decay=1e-4)\n",
        "\n",
        "model1_criterion = torch.nn.CrossEntropyLoss()\n"
      ],
      "metadata": {
        "id": "BEoeL08dHcUq"
      },
      "execution_count": null,
      "outputs": []
    },
    {
      "cell_type": "code",
      "source": [
        "device = torch.device(\"cuda\" if torch.cuda.is_available() else \"cpu\")\n",
        "model1 = model1.to(device)\n"
      ],
      "metadata": {
        "id": "mcF-sxapHusz"
      },
      "execution_count": null,
      "outputs": []
    },
    {
      "cell_type": "markdown",
      "source": [
        "### Summary"
      ],
      "metadata": {
        "id": "E5qDOnXTV_6l"
      }
    },
    {
      "cell_type": "code",
      "source": [
        "input_tensor = data_set[0][0].unsqueeze(0).to(device)\n",
        "\n",
        "# Mostrar resumen del modelo\n",
        "summary(model1, input_data=input_tensor)"
      ],
      "metadata": {
        "colab": {
          "base_uri": "https://localhost:8080/"
        },
        "id": "hbPs-LkoHZ07",
        "outputId": "0956f01c-1cc9-4421-c5fe-15341aac732c"
      },
      "execution_count": null,
      "outputs": [
        {
          "output_type": "execute_result",
          "data": {
            "text/plain": [
              "==========================================================================================\n",
              "Layer (type:depth-idx)                   Output Shape              Param #\n",
              "==========================================================================================\n",
              "Model1                                   [1, 19955]                --\n",
              "├─Embedding: 1-1                         [1, 3, 5]                 99,780\n",
              "├─LSTM: 1-2                              [1, 3, 64]                51,456\n",
              "├─Linear: 1-3                            [1, 32]                   2,080\n",
              "├─ReLU: 1-4                              [1, 32]                   --\n",
              "├─Linear: 1-5                            [1, 19955]                658,515\n",
              "==========================================================================================\n",
              "Total params: 811,831\n",
              "Trainable params: 811,831\n",
              "Non-trainable params: 0\n",
              "Total mult-adds (Units.MEGABYTES): 0.91\n",
              "==========================================================================================\n",
              "Input size (MB): 0.00\n",
              "Forward/backward pass size (MB): 0.16\n",
              "Params size (MB): 3.25\n",
              "Estimated Total Size (MB): 3.41\n",
              "=========================================================================================="
            ]
          },
          "metadata": {},
          "execution_count": 33
        }
      ]
    },
    {
      "cell_type": "code",
      "source": [
        "def categorical_acc(y_pred, y_test):\n",
        "    y_pred_tag = y_pred.data.max(dim=1, keepdim=True)[1]\n",
        "    y_test_tag = y_test.view(-1, 1)\n",
        "    correct_results_sum = (y_pred_tag == y_test_tag).sum().float()\n",
        "    acc = correct_results_sum / y_test.shape[0]\n",
        "    return acc\n"
      ],
      "metadata": {
        "id": "CXUw_vJ6Pq3H"
      },
      "execution_count": null,
      "outputs": []
    },
    {
      "cell_type": "code",
      "source": [
        "history1 = train(model1,\n",
        "                train_loader,\n",
        "                valid_loader,\n",
        "                model1_optimizer,\n",
        "                model1_criterion,\n",
        "                epochs=100\n",
        "                )"
      ],
      "metadata": {
        "colab": {
          "base_uri": "https://localhost:8080/"
        },
        "id": "S5yINRb7yMzB",
        "outputId": "70223f77-6ad7-4677-c25e-c4ffb31fbc92"
      },
      "execution_count": null,
      "outputs": [
        {
          "output_type": "stream",
          "name": "stderr",
          "text": [
            "/usr/local/lib/python3.11/dist-packages/torch/autograd/graph.py:823: UserWarning: Attempting to run cuBLAS, but there was no current CUDA context! Attempting to set the primary context... (Triggered internally at /pytorch/aten/src/ATen/cuda/CublasHandlePool.cpp:180.)\n",
            "  return Variable._execution_engine.run_backward(  # Calls into the C++ engine to run the backward pass\n"
          ]
        },
        {
          "output_type": "stream",
          "name": "stdout",
          "text": [
            "Epoch: 1/100 - Train loss 7.095 - Train accuracy 0.045 - Valid Loss 7.150 - Valid accuracy 0.063\n",
            "Epoch: 2/100 - Train loss 6.796 - Train accuracy 0.058 - Valid Loss 7.051 - Valid accuracy 0.056\n",
            "Epoch: 3/100 - Train loss 6.663 - Train accuracy 0.065 - Valid Loss 7.038 - Valid accuracy 0.076\n",
            "Epoch: 4/100 - Train loss 6.559 - Train accuracy 0.073 - Valid Loss 6.981 - Valid accuracy 0.079\n",
            "Epoch: 5/100 - Train loss 6.428 - Train accuracy 0.083 - Valid Loss 6.913 - Valid accuracy 0.080\n",
            "Epoch: 6/100 - Train loss 6.330 - Train accuracy 0.091 - Valid Loss 6.896 - Valid accuracy 0.081\n",
            "Epoch: 7/100 - Train loss 6.255 - Train accuracy 0.097 - Valid Loss 6.856 - Valid accuracy 0.085\n",
            "Epoch: 8/100 - Train loss 6.196 - Train accuracy 0.102 - Valid Loss 6.878 - Valid accuracy 0.082\n",
            "Epoch: 9/100 - Train loss 6.146 - Train accuracy 0.105 - Valid Loss 6.870 - Valid accuracy 0.086\n",
            "Epoch: 10/100 - Train loss 6.109 - Train accuracy 0.108 - Valid Loss 6.844 - Valid accuracy 0.084\n",
            "Epoch: 11/100 - Train loss 6.076 - Train accuracy 0.111 - Valid Loss 6.867 - Valid accuracy 0.083\n",
            "Epoch: 12/100 - Train loss 6.045 - Train accuracy 0.114 - Valid Loss 6.837 - Valid accuracy 0.086\n",
            "Epoch: 13/100 - Train loss 6.016 - Train accuracy 0.116 - Valid Loss 6.842 - Valid accuracy 0.084\n",
            "Epoch: 14/100 - Train loss 5.988 - Train accuracy 0.120 - Valid Loss 6.853 - Valid accuracy 0.082\n",
            "Epoch: 15/100 - Train loss 5.963 - Train accuracy 0.120 - Valid Loss 6.872 - Valid accuracy 0.083\n",
            "Epoch: 16/100 - Train loss 5.939 - Train accuracy 0.122 - Valid Loss 6.847 - Valid accuracy 0.089\n",
            "Epoch: 17/100 - Train loss 5.917 - Train accuracy 0.123 - Valid Loss 6.850 - Valid accuracy 0.086\n",
            "Epoch: 18/100 - Train loss 5.897 - Train accuracy 0.124 - Valid Loss 6.879 - Valid accuracy 0.088\n",
            "Epoch: 19/100 - Train loss 5.879 - Train accuracy 0.126 - Valid Loss 6.865 - Valid accuracy 0.085\n",
            "Epoch: 20/100 - Train loss 5.862 - Train accuracy 0.127 - Valid Loss 6.870 - Valid accuracy 0.085\n",
            "Epoch: 21/100 - Train loss 5.848 - Train accuracy 0.127 - Valid Loss 6.846 - Valid accuracy 0.089\n",
            "Epoch: 22/100 - Train loss 5.835 - Train accuracy 0.129 - Valid Loss 6.887 - Valid accuracy 0.085\n",
            "Epoch: 23/100 - Train loss 5.820 - Train accuracy 0.130 - Valid Loss 6.877 - Valid accuracy 0.084\n",
            "Epoch: 24/100 - Train loss 5.806 - Train accuracy 0.129 - Valid Loss 6.876 - Valid accuracy 0.084\n",
            "Epoch: 25/100 - Train loss 5.800 - Train accuracy 0.130 - Valid Loss 6.892 - Valid accuracy 0.085\n",
            "Epoch: 26/100 - Train loss 5.790 - Train accuracy 0.131 - Valid Loss 6.870 - Valid accuracy 0.083\n",
            "Epoch: 27/100 - Train loss 5.779 - Train accuracy 0.131 - Valid Loss 6.883 - Valid accuracy 0.087\n",
            "Epoch: 28/100 - Train loss 5.770 - Train accuracy 0.131 - Valid Loss 6.931 - Valid accuracy 0.079\n",
            "Epoch: 29/100 - Train loss 5.762 - Train accuracy 0.131 - Valid Loss 6.887 - Valid accuracy 0.083\n",
            "Epoch: 30/100 - Train loss 5.755 - Train accuracy 0.131 - Valid Loss 6.903 - Valid accuracy 0.084\n",
            "Epoch: 31/100 - Train loss 5.747 - Train accuracy 0.133 - Valid Loss 6.906 - Valid accuracy 0.086\n",
            "Epoch: 32/100 - Train loss 5.738 - Train accuracy 0.132 - Valid Loss 6.908 - Valid accuracy 0.084\n",
            "Epoch: 33/100 - Train loss 5.732 - Train accuracy 0.131 - Valid Loss 6.896 - Valid accuracy 0.085\n",
            "Epoch: 34/100 - Train loss 5.723 - Train accuracy 0.133 - Valid Loss 6.902 - Valid accuracy 0.085\n",
            "Epoch: 35/100 - Train loss 5.716 - Train accuracy 0.133 - Valid Loss 6.911 - Valid accuracy 0.081\n",
            "Epoch: 36/100 - Train loss 5.707 - Train accuracy 0.133 - Valid Loss 6.889 - Valid accuracy 0.085\n",
            "Epoch: 37/100 - Train loss 5.700 - Train accuracy 0.133 - Valid Loss 6.906 - Valid accuracy 0.084\n",
            "Epoch: 38/100 - Train loss 5.694 - Train accuracy 0.134 - Valid Loss 6.926 - Valid accuracy 0.082\n",
            "Epoch: 39/100 - Train loss 5.684 - Train accuracy 0.134 - Valid Loss 6.898 - Valid accuracy 0.084\n",
            "Epoch: 40/100 - Train loss 5.680 - Train accuracy 0.134 - Valid Loss 6.928 - Valid accuracy 0.081\n",
            "Epoch: 41/100 - Train loss 5.670 - Train accuracy 0.134 - Valid Loss 6.909 - Valid accuracy 0.083\n",
            "Epoch: 42/100 - Train loss 5.664 - Train accuracy 0.133 - Valid Loss 6.945 - Valid accuracy 0.084\n",
            "Epoch: 43/100 - Train loss 5.657 - Train accuracy 0.135 - Valid Loss 6.927 - Valid accuracy 0.084\n",
            "Epoch: 44/100 - Train loss 5.654 - Train accuracy 0.134 - Valid Loss 6.942 - Valid accuracy 0.081\n",
            "Epoch: 45/100 - Train loss 5.649 - Train accuracy 0.134 - Valid Loss 6.934 - Valid accuracy 0.082\n",
            "Epoch: 46/100 - Train loss 5.644 - Train accuracy 0.134 - Valid Loss 6.916 - Valid accuracy 0.083\n",
            "Epoch: 47/100 - Train loss 5.639 - Train accuracy 0.135 - Valid Loss 6.943 - Valid accuracy 0.082\n",
            "Epoch: 48/100 - Train loss 5.636 - Train accuracy 0.135 - Valid Loss 6.951 - Valid accuracy 0.087\n",
            "Epoch: 49/100 - Train loss 5.630 - Train accuracy 0.136 - Valid Loss 6.962 - Valid accuracy 0.083\n",
            "Epoch: 50/100 - Train loss 5.625 - Train accuracy 0.135 - Valid Loss 6.916 - Valid accuracy 0.083\n",
            "Epoch: 51/100 - Train loss 5.621 - Train accuracy 0.135 - Valid Loss 6.941 - Valid accuracy 0.082\n",
            "Epoch: 52/100 - Train loss 5.618 - Train accuracy 0.135 - Valid Loss 6.953 - Valid accuracy 0.084\n",
            "Epoch: 53/100 - Train loss 5.611 - Train accuracy 0.137 - Valid Loss 6.943 - Valid accuracy 0.081\n",
            "Epoch: 54/100 - Train loss 5.608 - Train accuracy 0.136 - Valid Loss 6.936 - Valid accuracy 0.083\n",
            "Epoch: 55/100 - Train loss 5.603 - Train accuracy 0.137 - Valid Loss 6.939 - Valid accuracy 0.082\n",
            "Epoch: 56/100 - Train loss 5.599 - Train accuracy 0.138 - Valid Loss 6.938 - Valid accuracy 0.082\n",
            "Epoch: 57/100 - Train loss 5.596 - Train accuracy 0.137 - Valid Loss 6.967 - Valid accuracy 0.083\n",
            "Epoch: 58/100 - Train loss 5.595 - Train accuracy 0.136 - Valid Loss 6.936 - Valid accuracy 0.083\n",
            "Epoch: 59/100 - Train loss 5.588 - Train accuracy 0.137 - Valid Loss 6.982 - Valid accuracy 0.085\n",
            "Epoch: 60/100 - Train loss 5.586 - Train accuracy 0.137 - Valid Loss 6.993 - Valid accuracy 0.080\n",
            "Epoch: 61/100 - Train loss 5.583 - Train accuracy 0.138 - Valid Loss 6.993 - Valid accuracy 0.080\n",
            "Epoch: 62/100 - Train loss 5.581 - Train accuracy 0.137 - Valid Loss 6.940 - Valid accuracy 0.082\n",
            "Epoch: 63/100 - Train loss 5.579 - Train accuracy 0.137 - Valid Loss 6.974 - Valid accuracy 0.082\n",
            "Epoch: 64/100 - Train loss 5.573 - Train accuracy 0.137 - Valid Loss 6.958 - Valid accuracy 0.081\n",
            "Epoch: 65/100 - Train loss 5.573 - Train accuracy 0.138 - Valid Loss 6.972 - Valid accuracy 0.080\n",
            "Epoch: 66/100 - Train loss 5.567 - Train accuracy 0.138 - Valid Loss 6.939 - Valid accuracy 0.085\n",
            "Epoch: 67/100 - Train loss 5.565 - Train accuracy 0.139 - Valid Loss 6.992 - Valid accuracy 0.081\n",
            "Epoch: 68/100 - Train loss 5.564 - Train accuracy 0.139 - Valid Loss 6.971 - Valid accuracy 0.085\n",
            "Epoch: 69/100 - Train loss 5.561 - Train accuracy 0.138 - Valid Loss 6.957 - Valid accuracy 0.085\n",
            "Epoch: 70/100 - Train loss 5.559 - Train accuracy 0.139 - Valid Loss 6.966 - Valid accuracy 0.081\n",
            "Epoch: 71/100 - Train loss 5.555 - Train accuracy 0.138 - Valid Loss 6.968 - Valid accuracy 0.084\n",
            "Epoch: 72/100 - Train loss 5.556 - Train accuracy 0.139 - Valid Loss 6.971 - Valid accuracy 0.083\n",
            "Epoch: 73/100 - Train loss 5.553 - Train accuracy 0.139 - Valid Loss 6.967 - Valid accuracy 0.081\n",
            "Epoch: 74/100 - Train loss 5.550 - Train accuracy 0.140 - Valid Loss 6.934 - Valid accuracy 0.083\n",
            "Epoch: 75/100 - Train loss 5.549 - Train accuracy 0.138 - Valid Loss 7.000 - Valid accuracy 0.084\n",
            "Epoch: 76/100 - Train loss 5.550 - Train accuracy 0.139 - Valid Loss 6.967 - Valid accuracy 0.081\n",
            "Epoch: 77/100 - Train loss 5.545 - Train accuracy 0.139 - Valid Loss 6.982 - Valid accuracy 0.083\n",
            "Epoch: 78/100 - Train loss 5.545 - Train accuracy 0.139 - Valid Loss 6.975 - Valid accuracy 0.084\n",
            "Epoch: 79/100 - Train loss 5.541 - Train accuracy 0.139 - Valid Loss 6.971 - Valid accuracy 0.083\n",
            "Epoch: 80/100 - Train loss 5.543 - Train accuracy 0.139 - Valid Loss 6.967 - Valid accuracy 0.082\n",
            "Epoch: 81/100 - Train loss 5.543 - Train accuracy 0.139 - Valid Loss 6.994 - Valid accuracy 0.082\n",
            "Epoch: 82/100 - Train loss 5.539 - Train accuracy 0.139 - Valid Loss 6.966 - Valid accuracy 0.083\n",
            "Epoch: 83/100 - Train loss 5.540 - Train accuracy 0.139 - Valid Loss 6.985 - Valid accuracy 0.085\n",
            "Epoch: 84/100 - Train loss 5.539 - Train accuracy 0.139 - Valid Loss 7.008 - Valid accuracy 0.082\n",
            "Epoch: 85/100 - Train loss 5.537 - Train accuracy 0.140 - Valid Loss 6.987 - Valid accuracy 0.082\n",
            "Epoch: 86/100 - Train loss 5.536 - Train accuracy 0.140 - Valid Loss 6.984 - Valid accuracy 0.085\n",
            "Epoch: 87/100 - Train loss 5.532 - Train accuracy 0.140 - Valid Loss 6.967 - Valid accuracy 0.082\n",
            "Epoch: 88/100 - Train loss 5.534 - Train accuracy 0.140 - Valid Loss 6.976 - Valid accuracy 0.086\n",
            "Epoch: 89/100 - Train loss 5.533 - Train accuracy 0.139 - Valid Loss 6.985 - Valid accuracy 0.081\n",
            "Epoch: 90/100 - Train loss 5.533 - Train accuracy 0.139 - Valid Loss 6.998 - Valid accuracy 0.082\n",
            "Epoch: 91/100 - Train loss 5.530 - Train accuracy 0.140 - Valid Loss 6.991 - Valid accuracy 0.081\n",
            "Epoch: 92/100 - Train loss 5.529 - Train accuracy 0.140 - Valid Loss 6.996 - Valid accuracy 0.083\n",
            "Epoch: 93/100 - Train loss 5.526 - Train accuracy 0.140 - Valid Loss 6.977 - Valid accuracy 0.083\n",
            "Epoch: 94/100 - Train loss 5.526 - Train accuracy 0.140 - Valid Loss 6.994 - Valid accuracy 0.084\n",
            "Epoch: 95/100 - Train loss 5.524 - Train accuracy 0.141 - Valid Loss 7.001 - Valid accuracy 0.079\n",
            "Epoch: 96/100 - Train loss 5.523 - Train accuracy 0.140 - Valid Loss 6.989 - Valid accuracy 0.082\n",
            "Epoch: 97/100 - Train loss 5.522 - Train accuracy 0.140 - Valid Loss 6.964 - Valid accuracy 0.079\n",
            "Epoch: 98/100 - Train loss 5.522 - Train accuracy 0.141 - Valid Loss 6.978 - Valid accuracy 0.084\n",
            "Epoch: 99/100 - Train loss 5.520 - Train accuracy 0.140 - Valid Loss 6.992 - Valid accuracy 0.084\n",
            "Epoch: 100/100 - Train loss 5.522 - Train accuracy 0.140 - Valid Loss 6.999 - Valid accuracy 0.084\n"
          ]
        }
      ]
    },
    {
      "cell_type": "code",
      "source": [
        "epoch_count = range(1, len(history1['accuracy']) + 1)\n",
        "sns.lineplot(x=epoch_count,  y=history1['accuracy'], label='train')\n",
        "sns.lineplot(x=epoch_count,  y=history1['val_accuracy'], label='valid')\n",
        "plt.show()"
      ],
      "metadata": {
        "colab": {
          "base_uri": "https://localhost:8080/",
          "height": 430
        },
        "id": "QH6al4DoyUWu",
        "outputId": "d104e836-ff43-4226-e3a3-6de9204c9bdd"
      },
      "execution_count": null,
      "outputs": [
        {
          "output_type": "display_data",
          "data": {
            "text/plain": [
              "<Figure size 640x480 with 1 Axes>"
            ],
            "image/png": "[encoded data removed]"
          },
          "metadata": {}
        }
      ]
    },
    {
      "cell_type": "code",
      "source": [
        "torch.save(model1.state_dict(), \"model1_weights.pth\")\n"
      ],
      "metadata": {
        "id": "6NxCtTXiIo7u"
      },
      "execution_count": null,
      "outputs": []
    },
    {
      "cell_type": "markdown",
      "source": [
        "## Cargar modelo"
      ],
      "metadata": {
        "id": "oNe4eomLIsgG"
      }
    },
    {
      "cell_type": "code",
      "source": [
        "model1 = Model1(vocab_size=vocab_size, output_dim=output_dim)\n",
        "model1.load_state_dict(torch.load(\"model1_weights.pth\"))\n",
        "model1.to(device)\n",
        "model1.eval()\n"
      ],
      "metadata": {
        "colab": {
          "base_uri": "https://localhost:8080/"
        },
        "id": "NyE9Yc6jItlj",
        "outputId": "db38634e-5bbc-4847-e913-8e1891cfdb9f"
      },
      "execution_count": null,
      "outputs": [
        {
          "output_type": "execute_result",
          "data": {
            "text/plain": [
              "Model1(\n",
              "  (embedding): Embedding(19956, 5, padding_idx=0)\n",
              "  (lstm1): LSTM(5, 64, num_layers=2, batch_first=True, dropout=0.5)\n",
              "  (fc1): Linear(in_features=64, out_features=32, bias=True)\n",
              "  (fc2): Linear(in_features=32, out_features=19955, bias=True)\n",
              "  (relu): ReLU()\n",
              "  (softmax): Softmax(dim=1)\n",
              ")"
            ]
          },
          "metadata": {},
          "execution_count": 38
        }
      ]
    },
    {
      "cell_type": "markdown",
      "metadata": {
        "id": "KN6Fg_BsxJe6"
      },
      "source": [
        "## 4 - Predicción de próxima palabra"
      ]
    },
    {
      "cell_type": "code",
      "source": [
        "def predict_next_word(model, tokenizer, input_text, max_len=3):\n",
        "    \"\"\"\n",
        "    Predice la próxima palabra dada una frase de entrada.\n",
        "\n",
        "    Args:\n",
        "        model (torch.nn.Module): Modelo entrenado.\n",
        "        tokenizer (Tokenizer): Tokenizador ya ajustado.\n",
        "        input_text (str): Frase inicial.\n",
        "        max_len (int): Longitud máxima de entrada (usada en pad_sequences).\n",
        "\n",
        "    Returns:\n",
        "        str: Frase con la palabra predicha añadida.\n",
        "    \"\"\"\n",
        "    model.eval()\n",
        "\n",
        "    # Tokenizar y preprocesar\n",
        "    encoded = tokenizer.texts_to_sequences([input_text])[0]\n",
        "    padded = pad_sequences([encoded], maxlen=max_len, padding='pre')\n",
        "    tensor = torch.from_numpy(padded.astype(np.int32)).to(device)\n",
        "\n",
        "    # Predecir\n",
        "    with torch.no_grad():\n",
        "        output = model(tensor)\n",
        "        predicted_idx = output.argmax(dim=-1).item()\n",
        "\n",
        "    predicted_word = None\n",
        "    for word, index in tokenizer.word_index.items():\n",
        "        if index == predicted_idx + 1:\n",
        "            predicted_word = word\n",
        "            break\n",
        "\n",
        "    predicted_word = predicted_word if predicted_word is not None else \"<UNK>\"\n",
        "\n",
        "    return input_text + \" \" + predicted_word\n"
      ],
      "metadata": {
        "id": "9xKLBpepaOji"
      },
      "execution_count": null,
      "outputs": []
    },
    {
      "cell_type": "code",
      "source": [
        "input_text = \"vida y el \"\n",
        "output = predict_next_word(model1, tok, input_text)\n",
        "print(output)\n"
      ],
      "metadata": {
        "colab": {
          "base_uri": "https://localhost:8080/"
        },
        "id": "HYTtF-agaeW3",
        "outputId": "8fa2ad1d-b415-431e-86b0-12d7b2ecaaa4"
      },
      "execution_count": null,
      "outputs": [
        {
          "output_type": "stream",
          "name": "stdout",
          "text": [
            "vida y el  asno\n"
          ]
        }
      ]
    },
    {
      "cell_type": "code",
      "source": [
        "input_text = \"brevedad de la \"\n",
        "output = predict_next_word(model1, tok, input_text)\n",
        "print(output)"
      ],
      "metadata": {
        "colab": {
          "base_uri": "https://localhost:8080/"
        },
        "id": "-Bygx3O0arG1",
        "outputId": "bbc8b380-2f11-40a6-d496-d6cd330638e2"
      },
      "execution_count": null,
      "outputs": [
        {
          "output_type": "stream",
          "name": "stdout",
          "text": [
            "brevedad de la  vida\n"
          ]
        }
      ]
    },
    {
      "cell_type": "code",
      "source": [
        "input_text = \"sabio para el \"\n",
        "output = predict_next_word(model1, tok, input_text)\n",
        "print(output)"
      ],
      "metadata": {
        "colab": {
          "base_uri": "https://localhost:8080/"
        },
        "id": "BU5iAbb1a6Ni",
        "outputId": "64120130-d631-4785-9d0d-ab0ebbea2a58"
      },
      "execution_count": null,
      "outputs": [
        {
          "output_type": "stream",
          "name": "stdout",
          "text": [
            "sabio para el  que\n"
          ]
        }
      ]
    },
    {
      "cell_type": "code",
      "source": [
        "input_text = \"la verdadera soberanía consiste en la \"\n",
        "output = predict_next_word(model1, tok, input_text)\n",
        "print(output)"
      ],
      "metadata": {
        "colab": {
          "base_uri": "https://localhost:8080/"
        },
        "id": "DZaQpChca9fk",
        "outputId": "fe2a574a-f19f-4fd4-a788-299ae1a67675"
      },
      "execution_count": null,
      "outputs": [
        {
          "output_type": "stream",
          "name": "stdout",
          "text": [
            "la verdadera soberanía consiste en la  vida\n"
          ]
        }
      ]
    },
    {
      "cell_type": "markdown",
      "source": [
        "Parece que la unica palabra que predice es \"Vida\" y pronombres relativos por lo que no esta resultando ser un modeo fiable."
      ],
      "metadata": {
        "id": "gkZZIVYIa_76"
      }
    },
    {
      "cell_type": "markdown",
      "metadata": {
        "id": "mCeMWWupxN1-"
      },
      "source": [
        "## 5 - Generación de secuencias nuevas"
      ]
    },
    {
      "cell_type": "code",
      "metadata": {
        "id": "bwbS_pfhxvB3"
      },
      "source": [
        "def generate_seq(model, tokenizer, seed_text, max_length, n_words):\n",
        "    \"\"\"\n",
        "        Exec model sequence prediction\n",
        "\n",
        "        Args:\n",
        "            model (keras): modelo entrenado\n",
        "            tokenizer (keras tokenizer): tonenizer utilizado en el preprocesamiento\n",
        "            seed_text (string): texto de entrada (input_seq)\n",
        "            max_length (int): máxima longitud de la sequencia de entrada\n",
        "            n_words (int): números de palabras a agregar a la sequencia de entrada\n",
        "        returns:\n",
        "            output_text (string): sentencia con las \"n_words\" agregadas\n",
        "    \"\"\"\n",
        "    output_text = seed_text\n",
        "\t# generate a fixed number of words\n",
        "    for _ in range(n_words):\n",
        "\t\t# Encodeamos\n",
        "        encoded = tokenizer.texts_to_sequences([output_text])[0]\n",
        "\t\t# Si tienen distinto largo\n",
        "        encoded = pad_sequences([encoded], maxlen=max_length, padding='pre')\n",
        "\n",
        "        # Transformo a tensor\n",
        "        tensor = torch.from_numpy(encoded.astype(np.int32)).to(device)\n",
        "        # Predicción softmax\n",
        "        y_hat = model1(tensor).argmax(axis=-1)\n",
        "\n",
        "\t\t# Vamos concatenando las predicciones\n",
        "        out_word = ''\n",
        "\n",
        "        # Debemos buscar en el vocabulario la palabra\n",
        "        # que corresopnde al indice (y_hat) predicho por le modelo\n",
        "        for word, index in tokenizer.word_index.items():\n",
        "            if index == y_hat:\n",
        "                out_word = word\n",
        "                break\n",
        "\n",
        "\t\t# Agrego las palabras a la frase predicha\n",
        "        output_text += ' ' + out_word\n",
        "    return output_text"
      ],
      "execution_count": null,
      "outputs": []
    },
    {
      "cell_type": "code",
      "metadata": {
        "id": "JoFqRC5pxzqS",
        "colab": {
          "base_uri": "https://localhost:8080/",
          "height": 36
        },
        "outputId": "4e2e98ba-a044-4571-ef70-e4ce6db5c445"
      },
      "source": [
        "input_text='la verdadera soberanía consiste en'\n",
        "\n",
        "generate_seq(model1, tok, input_text, max_length=3, n_words=2)"
      ],
      "execution_count": null,
      "outputs": [
        {
          "output_type": "execute_result",
          "data": {
            "text/plain": [
              "'la verdadera soberanía consiste en la ahora'"
            ],
            "application/vnd.google.colaboratory.intrinsic+json": {
              "type": "string"
            }
          },
          "metadata": {},
          "execution_count": 55
        }
      ]
    },
    {
      "cell_type": "markdown",
      "metadata": {
        "id": "T2SHmXbgxQH9"
      },
      "source": [
        "## 6 - Conclusiones\n",
        "El modelo entrenado tuvo un muy mail desempeño en el entrenamiento además de overfitting. Cuestiones que podrían mejorarse:\n",
        "- Agregar más capas o neuronaes\n",
        "- Incrementar la cantidad de épocas\n",
        "- Agregar BRNN\n",
        "\n",
        "Es importante destacar que en este ejemplo estamos entrenando nuestro propios Embeddings, y para ello se requiere mucha data. En los ejemplos que realizaremos de aquí en más utilizaremos más datos, embeddings pre-enternados o modelos pre-entrenados."
      ]
    }
  ]
}